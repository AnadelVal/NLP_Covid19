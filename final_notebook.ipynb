{
 "cells": [
  {
   "cell_type": "markdown",
   "metadata": {},
   "source": [
    "# What do we know about vaccines and therapeutics? Team 6.3"
   ]
  },
  {
   "cell_type": "markdown",
   "metadata": {},
   "source": [
    "## References\n",
    "* COVID-19 Literature Clustering - https://www.kaggle.com/maksimeren/covid-19-literature-clustering\n",
    "* Topic Modeling: Finding Related Articles - https://www.kaggle.com/danielwolffram/topic-modeling-finding-related-articles"
   ]
  },
  {
   "cell_type": "markdown",
   "metadata": {},
   "source": [
    "# Prerequisites to run the notebook"
   ]
  },
  {
   "cell_type": "markdown",
   "metadata": {},
   "source": [
    "#### 1) Install additional libraries"
   ]
  },
  {
   "cell_type": "code",
   "execution_count": null,
   "metadata": {},
   "outputs": [],
   "source": [
    "!pip install spacy scispacy spacy_langdetect https://s3-us-west-2.amazonaws.com/ai2-s2-scispacy/releases/v0.2.3/en_core_sci_lg-0.2.3.tar.gz --user"
   ]
  },
  {
   "cell_type": "code",
   "execution_count": null,
   "metadata": {},
   "outputs": [],
   "source": [
    "!python -m spacy download 'en_core_web_sm' --user\n",
    "!python -m spacy link en_core_web_sm en "
   ]
  },
  {
   "cell_type": "code",
   "execution_count": null,
   "metadata": {},
   "outputs": [],
   "source": [
    "!pip install wordcloud --user\n",
    "!pip install nltk --user\n",
    "!pip install gensim --user\n",
    "!pip install bert-extractive-summarizer --user\n",
    "!pip install spacy>=2.1.3 --user\n",
    "!pip install transformers>=2.2.2 --user\n",
    "!pip install neuralcoref --user\n",
    "!python -m spacy download en_core_web_md --user"
   ]
  },
  {
   "cell_type": "markdown",
   "metadata": {},
   "source": [
    "#### 2) Make sure all data are accessible"
   ]
  },
  {
   "cell_type": "markdown",
   "metadata": {},
   "source": [
    "#### 3) Restart notebook (to make installed packages available)"
   ]
  },
  {
   "cell_type": "markdown",
   "metadata": {},
   "source": [
    "# Sources\n",
    " * COVID-19 Open Research Dataset"
   ]
  },
  {
   "cell_type": "markdown",
   "metadata": {},
   "source": [
    "# Load packages"
   ]
  },
  {
   "cell_type": "code",
   "execution_count": 28,
   "metadata": {},
   "outputs": [
    {
     "name": "stderr",
     "output_type": "stream",
     "text": [
      "\n",
      "0it [00:00, ?it/s]\u001b[A\n",
      "/opt/conda/lib/python3.7/site-packages/tqdm/std.py:651: FutureWarning: The Panel class is removed from pandas. Accessing it from the top-level namespace will also be removed in the next version\n",
      "  from pandas import Panel\n"
     ]
    }
   ],
   "source": [
    "import numpy as np \n",
    "import pandas as pd\n",
    "\n",
    "import glob\n",
    "import json\n",
    "\n",
    "import scispacy\n",
    "import spacy\n",
    "import en_core_sci_lg as en_core_sci_md\n",
    "from spacy_langdetect import LanguageDetector\n",
    "import en_core_web_sm\n",
    "\n",
    "import pickle\n",
    "import os\n",
    "import csv\n",
    "import re\n",
    "import datetime\n",
    "\n",
    "from matplotlib import pyplot as plt\n",
    "import seaborn as sns\n",
    "\n",
    "from sklearn.manifold import TSNE\n",
    "from sklearn.feature_extraction.text import TfidfVectorizer, CountVectorizer\n",
    "from sklearn.cluster import MiniBatchKMeans\n",
    "from sklearn.cluster import KMeans\n",
    "\n",
    "from scipy.spatial.distance import jensenshannon\n",
    "\n",
    "import joblib\n",
    "from IPython.display import HTML, display, Image\n",
    "\n",
    "from ipywidgets import interact, Layout, HBox, VBox, Box\n",
    "import ipywidgets as widgets\n",
    "from IPython.display import clear_output\n",
    "\n",
    "import string\n",
    "import nltk\n",
    "import configparser\n",
    "from gensim.models import FastText\n",
    "from tqdm import tqdm\n",
    "from sklearn.decomposition import LatentDirichletAllocation\n",
    "tqdm().pandas()\n",
    "\n",
    "from summarizer import Summarizer\n",
    "from wordcloud import WordCloud"
   ]
  },
  {
   "cell_type": "markdown",
   "metadata": {},
   "source": [
    "# Introduction\n",
    "At the end of December, WHO was informed of a cluster of cases of pneumonia of unknown cause detected in Wuhan City, Hubei Province of China. On 11 February 2020, WHO announced a name for the new coronavirus disease: COVID-19. Since then virus spread to 213 countries all over the world,  there are 1 844 863 confirmed cases of covid-19 and 117 021 deaths because of the virus (as of April 14th 2020). \n",
    "\n",
    "In response to the COVID-19 pandemic scientists, physicians, funders and manufacturers work 24/7 to find a vaccine against the disease as well as drugs to treat patients.\n",
    "\n",
    "Every day a large number of papers is published and try to answers to high priority scientific questions.\n",
    "\n",
    "COVID-19 Open Research Dataset is a set of abstracts and full-text articles on COVID-19, SARS-CoV-2, and related coronaviruses. This freely available dataset is provided to community via kaggle competition to  call to action to the world's artificial intelligence experts to apply NLP and other AI techniques to generate insights in support of the ongoing fight against this infectious disease.\n",
    "\n",
    "In this notebook we will try to support medical community and within coronavirus literature find an answer to the question what we know about vaccines and theraupetics against covid-19."
   ]
  },
  {
   "cell_type": "code",
   "execution_count": 2,
   "metadata": {},
   "outputs": [
    {
     "data": {
      "text/html": [
       "<img src=\"https://images.jifo.co/22486206_1586441876420.png\"/>"
      ],
      "text/plain": [
       "<IPython.core.display.Image object>"
      ]
     },
     "execution_count": 2,
     "metadata": {},
     "output_type": "execute_result"
    }
   ],
   "source": [
    "Image(url='https://images.jifo.co/22486206_1586441876420.png')\n",
    "# source: https://www.who.int/emergencies/diseases/novel-coronavirus-2019"
   ]
  },
  {
   "cell_type": "markdown",
   "metadata": {},
   "source": [
    "# List of content:\n",
    "1. Data load\n",
    "2. Data cleaning\n",
    "3. Data exploration\n",
    "4. Clustering\n",
    "5. Keywords generation\n",
    "6. Tokenize and generate similar keywords\n",
    "7. Topic modelling\n",
    "8. Filtering\n",
    "9. Get similiar documents\n",
    "10. Summary"
   ]
  },
  {
   "cell_type": "markdown",
   "metadata": {},
   "source": [
    "# 1) Data load"
   ]
  },
  {
   "cell_type": "raw",
   "metadata": {},
   "source": [
    "Our first step is to load and read all files from datasets and create one dataframe with metdata info and text."
   ]
  },
  {
   "cell_type": "code",
   "execution_count": 3,
   "metadata": {},
   "outputs": [],
   "source": [
    "## PLEASE UPDATE YOUR DATA PATH HERE\n",
    "root_path = '/hackathon/covid-19/data'"
   ]
  },
  {
   "cell_type": "code",
   "execution_count": 4,
   "metadata": {},
   "outputs": [
    {
     "data": {
      "text/html": [
       "<div>\n",
       "<style scoped>\n",
       "    .dataframe tbody tr th:only-of-type {\n",
       "        vertical-align: middle;\n",
       "    }\n",
       "\n",
       "    .dataframe tbody tr th {\n",
       "        vertical-align: top;\n",
       "    }\n",
       "\n",
       "    .dataframe thead th {\n",
       "        text-align: right;\n",
       "    }\n",
       "</style>\n",
       "<table border=\"1\" class=\"dataframe\">\n",
       "  <thead>\n",
       "    <tr style=\"text-align: right;\">\n",
       "      <th></th>\n",
       "      <th>cord_uid</th>\n",
       "      <th>sha</th>\n",
       "      <th>source_x</th>\n",
       "      <th>title</th>\n",
       "      <th>doi</th>\n",
       "      <th>pmcid</th>\n",
       "      <th>pubmed_id</th>\n",
       "      <th>license</th>\n",
       "      <th>abstract</th>\n",
       "      <th>publish_time</th>\n",
       "      <th>authors</th>\n",
       "      <th>journal</th>\n",
       "      <th>Microsoft Academic Paper ID</th>\n",
       "      <th>WHO #Covidence</th>\n",
       "      <th>has_pdf_parse</th>\n",
       "      <th>has_pmc_xml_parse</th>\n",
       "      <th>full_text_file</th>\n",
       "      <th>url</th>\n",
       "    </tr>\n",
       "  </thead>\n",
       "  <tbody>\n",
       "    <tr>\n",
       "      <th>0</th>\n",
       "      <td>xqhn0vbp</td>\n",
       "      <td>1e1286db212100993d03cc22374b624f7caee956</td>\n",
       "      <td>PMC</td>\n",
       "      <td>Airborne rhinovirus detection and effect of ul...</td>\n",
       "      <td>10.1186/1471-2458-3-5</td>\n",
       "      <td>PMC140314</td>\n",
       "      <td>12525263</td>\n",
       "      <td>no-cc</td>\n",
       "      <td>BACKGROUND: Rhinovirus, the most common cause ...</td>\n",
       "      <td>2003-01-13</td>\n",
       "      <td>Myatt, Theodore A; Johnston, Sebastian L; Rudn...</td>\n",
       "      <td>BMC Public Health</td>\n",
       "      <td>NaN</td>\n",
       "      <td>NaN</td>\n",
       "      <td>True</td>\n",
       "      <td>True</td>\n",
       "      <td>custom_license</td>\n",
       "      <td>https://www.ncbi.nlm.nih.gov/pmc/articles/PMC1...</td>\n",
       "    </tr>\n",
       "  </tbody>\n",
       "</table>\n",
       "</div>"
      ],
      "text/plain": [
       "   cord_uid                                       sha source_x  \\\n",
       "0  xqhn0vbp  1e1286db212100993d03cc22374b624f7caee956      PMC   \n",
       "\n",
       "                                               title                    doi  \\\n",
       "0  Airborne rhinovirus detection and effect of ul...  10.1186/1471-2458-3-5   \n",
       "\n",
       "       pmcid pubmed_id license  \\\n",
       "0  PMC140314  12525263   no-cc   \n",
       "\n",
       "                                            abstract publish_time  \\\n",
       "0  BACKGROUND: Rhinovirus, the most common cause ...   2003-01-13   \n",
       "\n",
       "                                             authors            journal  \\\n",
       "0  Myatt, Theodore A; Johnston, Sebastian L; Rudn...  BMC Public Health   \n",
       "\n",
       "  Microsoft Academic Paper ID WHO #Covidence  has_pdf_parse  \\\n",
       "0                         NaN            NaN           True   \n",
       "\n",
       "   has_pmc_xml_parse  full_text_file  \\\n",
       "0               True  custom_license   \n",
       "\n",
       "                                                 url  \n",
       "0  https://www.ncbi.nlm.nih.gov/pmc/articles/PMC1...  "
      ]
     },
     "execution_count": 4,
     "metadata": {},
     "output_type": "execute_result"
    }
   ],
   "source": [
    "# load metadata\n",
    "metadata_path = f'{root_path}/metadata.csv'\n",
    "meta_df = pd.read_csv(metadata_path, dtype={\n",
    "    'pubmed_id': str,\n",
    "    'Microsoft Academic Paper ID': str, \n",
    "    'doi': str\n",
    "})\n",
    "meta_df.head(1)"
   ]
  },
  {
   "cell_type": "code",
   "execution_count": 5,
   "metadata": {},
   "outputs": [
    {
     "data": {
      "text/plain": [
       "88626"
      ]
     },
     "execution_count": 5,
     "metadata": {},
     "output_type": "execute_result"
    }
   ],
   "source": [
    "# load all json\n",
    "all_json = glob.glob(f'{root_path}/**/*.json', recursive=True)\n",
    "len(all_json) # should be 88626"
   ]
  },
  {
   "cell_type": "code",
   "execution_count": 6,
   "metadata": {},
   "outputs": [
    {
     "name": "stderr",
     "output_type": "stream",
     "text": [
      "100%|██████████| 88626/88626 [05:39<00:00, 260.86it/s]\n"
     ]
    },
    {
     "data": {
      "text/html": [
       "<div>\n",
       "<style scoped>\n",
       "    .dataframe tbody tr th:only-of-type {\n",
       "        vertical-align: middle;\n",
       "    }\n",
       "\n",
       "    .dataframe tbody tr th {\n",
       "        vertical-align: top;\n",
       "    }\n",
       "\n",
       "    .dataframe thead th {\n",
       "        text-align: right;\n",
       "    }\n",
       "</style>\n",
       "<table border=\"1\" class=\"dataframe\">\n",
       "  <thead>\n",
       "    <tr style=\"text-align: right;\">\n",
       "      <th></th>\n",
       "      <th>paper_id</th>\n",
       "      <th>abstract</th>\n",
       "      <th>body_text</th>\n",
       "    </tr>\n",
       "  </thead>\n",
       "  <tbody>\n",
       "    <tr>\n",
       "      <th>0</th>\n",
       "      <td>bd667dbd5200c9f07fb07cef29435f7ca7c2639b</td>\n",
       "      <td>Since there is no available serological method...</td>\n",
       "      <td>Epizootic catarrhal enteritis (EcE), a new ent...</td>\n",
       "    </tr>\n",
       "  </tbody>\n",
       "</table>\n",
       "</div>"
      ],
      "text/plain": [
       "                                   paper_id  \\\n",
       "0  bd667dbd5200c9f07fb07cef29435f7ca7c2639b   \n",
       "\n",
       "                                            abstract  \\\n",
       "0  Since there is no available serological method...   \n",
       "\n",
       "                                           body_text  \n",
       "0  Epizootic catarrhal enteritis (EcE), a new ent...  "
      ]
     },
     "execution_count": 6,
     "metadata": {},
     "output_type": "execute_result"
    }
   ],
   "source": [
    "# read json files\n",
    "class FileReader:\n",
    "    def __init__(self, file_path):\n",
    "        with open(file_path) as file:\n",
    "            content = json.load(file)\n",
    "            self.paper_id = content['paper_id']\n",
    "            self.abstract = []\n",
    "            self.body_text = []\n",
    "            # Abstract\n",
    "            if 'abstract' in content:\n",
    "                for entry in content['abstract']:\n",
    "                    self.abstract.append(entry['text'])\n",
    "            # Body text\n",
    "            for entry in content['body_text']:\n",
    "                self.body_text.append(entry['text'])\n",
    "            self.abstract = '\\n'.join(self.abstract)\n",
    "            self.body_text = '\\n'.join(self.body_text)\n",
    "    def __repr__(self):\n",
    "        return f'{self.paper_id}: {self.abstract[:200]}... {self.body_text[:200]}...'\n",
    "    \n",
    "dict_ = {'paper_id': [], 'abstract': [], 'body_text': []}\n",
    "for entry in tqdm(all_json):\n",
    "    content = FileReader(entry)\n",
    "    dict_['paper_id'].append(content.paper_id)\n",
    "    dict_['abstract'].append(content.abstract)\n",
    "    dict_['body_text'].append(content.body_text)\n",
    "papers = pd.DataFrame(dict_, columns=['paper_id', 'abstract', 'body_text'])\n",
    "papers.head(1)"
   ]
  },
  {
   "cell_type": "code",
   "execution_count": 7,
   "metadata": {},
   "outputs": [],
   "source": [
    "# merge with metadata\n",
    "df = pd.merge(papers, meta_df, left_on='paper_id', right_on='sha', how='left').drop('sha', axis=1)"
   ]
  },
  {
   "cell_type": "markdown",
   "metadata": {},
   "source": [
    "# 2) Clean data"
   ]
  },
  {
   "cell_type": "raw",
   "metadata": {},
   "source": [
    "Cleaning data is crucial part in every nlp modelling. Using spacy language detector only english abstracts were left and then those data were preprocessed by removing stopwords, punctuation characters and numbers. At the end of cleaning texts were lemmatized."
   ]
  },
  {
   "cell_type": "code",
   "execution_count": 8,
   "metadata": {},
   "outputs": [],
   "source": [
    "# use abstracts from the metadata when possible, fill the missing values with the abstract from the extracted values from the JSON file.\n",
    "df.loc[df.abstract_y.isnull() & (df.abstract_x != ''), 'abstract_y'] = df[(df.abstract_y.isnull()) & (df.abstract_x != '')].abstract_x\n",
    "df.rename(columns = {'abstract_y': 'abstract'}, inplace=True)\n",
    "df.drop('abstract_x', axis=1, inplace=True)"
   ]
  },
  {
   "cell_type": "code",
   "execution_count": 9,
   "metadata": {},
   "outputs": [],
   "source": [
    "# drop duplicates\n",
    "df.drop_duplicates(['paper_id', 'body_text'], inplace=True)"
   ]
  },
  {
   "cell_type": "code",
   "execution_count": 10,
   "metadata": {},
   "outputs": [],
   "source": [
    "# language detection of abstracts\n",
    "nlp = en_core_sci_md.load(disable=[\"tagger\", \"ner\"])\n",
    "nlp.max_length = 2000000\n",
    "nlp.add_pipe(LanguageDetector(), name='language_detector', last=True)"
   ]
  },
  {
   "cell_type": "code",
   "execution_count": 11,
   "metadata": {},
   "outputs": [
    {
     "name": "stderr",
     "output_type": "stream",
     "text": [
      "100%|██████████| 60042/60042 [12:30<00:00, 79.96it/s] \n"
     ]
    }
   ],
   "source": [
    "# keep only english language of abstracts\n",
    "df['abstract_lang'] = df.abstract.progress_apply(lambda x: nlp(str(x))._.language['language'])"
   ]
  },
  {
   "cell_type": "code",
   "execution_count": 12,
   "metadata": {},
   "outputs": [
    {
     "name": "stderr",
     "output_type": "stream",
     "text": [
      "100%|██████████| 60042/60042 [25:48<00:00, 38.77it/s]\n"
     ]
    }
   ],
   "source": [
    "# language only english language of body text\n",
    "df['body_lang'] = df.body_text.progress_apply(lambda x: nlp(str(x[:2000]))._.language['language'])"
   ]
  },
  {
   "cell_type": "code",
   "execution_count": 13,
   "metadata": {},
   "outputs": [
    {
     "data": {
      "text/plain": [
       "<matplotlib.axes._subplots.AxesSubplot at 0x7f98f45f7160>"
      ]
     },
     "execution_count": 13,
     "metadata": {},
     "output_type": "execute_result"
    },
    {
     "data": {
      "image/png": "[encoded data removed]",
      "text/plain": [
       "<Figure size 720x360 with 1 Axes>"
      ]
     },
     "metadata": {
      "needs_background": "light"
     },
     "output_type": "display_data"
    }
   ],
   "source": [
    "# graph by language\n",
    "by_lang = df['body_lang'].value_counts().sort_values(ascending=False).head(5)\n",
    "fig, jd = plt.subplots(figsize=(10, 5))\n",
    "jd.spines[\"top\"].set_visible(False)\n",
    "jd.spines[\"right\"].set_visible(False)\n",
    "\n",
    "by_lang.plot(ax=jd, title=\"Articles by Publication\", kind='bar', color='#0066CC')"
   ]
  },
  {
   "cell_type": "code",
   "execution_count": 14,
   "metadata": {},
   "outputs": [
    {
     "data": {
      "text/html": [
       "<div>\n",
       "<style scoped>\n",
       "    .dataframe tbody tr th:only-of-type {\n",
       "        vertical-align: middle;\n",
       "    }\n",
       "\n",
       "    .dataframe tbody tr th {\n",
       "        vertical-align: top;\n",
       "    }\n",
       "\n",
       "    .dataframe thead th {\n",
       "        text-align: right;\n",
       "    }\n",
       "</style>\n",
       "<table border=\"1\" class=\"dataframe\">\n",
       "  <thead>\n",
       "    <tr style=\"text-align: right;\">\n",
       "      <th></th>\n",
       "      <th>paper_id</th>\n",
       "      <th>body_text</th>\n",
       "      <th>cord_uid</th>\n",
       "      <th>source_x</th>\n",
       "      <th>title</th>\n",
       "      <th>doi</th>\n",
       "      <th>pmcid</th>\n",
       "      <th>pubmed_id</th>\n",
       "      <th>license</th>\n",
       "      <th>abstract</th>\n",
       "      <th>...</th>\n",
       "      <th>authors</th>\n",
       "      <th>journal</th>\n",
       "      <th>Microsoft Academic Paper ID</th>\n",
       "      <th>WHO #Covidence</th>\n",
       "      <th>has_pdf_parse</th>\n",
       "      <th>has_pmc_xml_parse</th>\n",
       "      <th>full_text_file</th>\n",
       "      <th>url</th>\n",
       "      <th>abstract_lang</th>\n",
       "      <th>body_lang</th>\n",
       "    </tr>\n",
       "  </thead>\n",
       "  <tbody>\n",
       "    <tr>\n",
       "      <th>0</th>\n",
       "      <td>bd667dbd5200c9f07fb07cef29435f7ca7c2639b</td>\n",
       "      <td>Epizootic catarrhal enteritis (EcE), a new ent...</td>\n",
       "      <td>3g75spkc</td>\n",
       "      <td>PMC</td>\n",
       "      <td>Establishment of serological test to detect an...</td>\n",
       "      <td>10.1292/jvms.16-0059</td>\n",
       "      <td>PMC4937135</td>\n",
       "      <td>26935842</td>\n",
       "      <td>cc-by-nc-nd</td>\n",
       "      <td>Since there is no available serological method...</td>\n",
       "      <td>...</td>\n",
       "      <td>MINAMI, Shohei; TERADA, Yutaka; SHIMODA, Hiros...</td>\n",
       "      <td>J Vet Med Sci</td>\n",
       "      <td>NaN</td>\n",
       "      <td>NaN</td>\n",
       "      <td>True</td>\n",
       "      <td>True</td>\n",
       "      <td>noncomm_use_subset</td>\n",
       "      <td>https://www.ncbi.nlm.nih.gov/pmc/articles/PMC4...</td>\n",
       "      <td>en</td>\n",
       "      <td>en</td>\n",
       "    </tr>\n",
       "    <tr>\n",
       "      <th>1</th>\n",
       "      <td>34fca1fbc149711e5617126584d1e26f06e94de9</td>\n",
       "      <td>T he ability to predict and prevent viral epid...</td>\n",
       "      <td>NaN</td>\n",
       "      <td>NaN</td>\n",
       "      <td>NaN</td>\n",
       "      <td>NaN</td>\n",
       "      <td>NaN</td>\n",
       "      <td>NaN</td>\n",
       "      <td>NaN</td>\n",
       "      <td>The large virus family Paramyxoviridae include...</td>\n",
       "      <td>...</td>\n",
       "      <td>NaN</td>\n",
       "      <td>NaN</td>\n",
       "      <td>NaN</td>\n",
       "      <td>NaN</td>\n",
       "      <td>NaN</td>\n",
       "      <td>NaN</td>\n",
       "      <td>NaN</td>\n",
       "      <td>NaN</td>\n",
       "      <td>en</td>\n",
       "      <td>en</td>\n",
       "    </tr>\n",
       "    <tr>\n",
       "      <th>2</th>\n",
       "      <td>3c3ab717ef79befde82029b1362348708998d17e</td>\n",
       "      <td>IMPORTANCE Most studies examining the host tra...</td>\n",
       "      <td>iftvp09u</td>\n",
       "      <td>PMC</td>\n",
       "      <td>Unique Signatures of Long Noncoding RNA Expres...</td>\n",
       "      <td>10.1128/mbio.00206-10</td>\n",
       "      <td>PMC2962437</td>\n",
       "      <td>20978541</td>\n",
       "      <td>cc-by-nc-sa</td>\n",
       "      <td>Studies of the host response to virus infectio...</td>\n",
       "      <td>...</td>\n",
       "      <td>Peng, Xinxia; Gralinski, Lisa; Armour, Christo...</td>\n",
       "      <td>mBio</td>\n",
       "      <td>NaN</td>\n",
       "      <td>NaN</td>\n",
       "      <td>True</td>\n",
       "      <td>True</td>\n",
       "      <td>noncomm_use_subset</td>\n",
       "      <td>https://www.ncbi.nlm.nih.gov/pmc/articles/PMC2...</td>\n",
       "      <td>en</td>\n",
       "      <td>en</td>\n",
       "    </tr>\n",
       "    <tr>\n",
       "      <th>4</th>\n",
       "      <td>3041dc5ba951755241ae7e75ade271188033d4de</td>\n",
       "      <td>sequential addition of N-acetylgalactosamine, ...</td>\n",
       "      <td>4pv1zu1g</td>\n",
       "      <td>PMC</td>\n",
       "      <td>O-glycosylation of intact and truncated riboph...</td>\n",
       "      <td>NaN</td>\n",
       "      <td>PMC2289488</td>\n",
       "      <td>1577870</td>\n",
       "      <td>cc-by-nc-sa</td>\n",
       "      <td>Ribophorins I and II are type I transmembrane ...</td>\n",
       "      <td>...</td>\n",
       "      <td>NaN</td>\n",
       "      <td>J Cell Biol</td>\n",
       "      <td>NaN</td>\n",
       "      <td>NaN</td>\n",
       "      <td>True</td>\n",
       "      <td>True</td>\n",
       "      <td>noncomm_use_subset</td>\n",
       "      <td>https://www.ncbi.nlm.nih.gov/pmc/articles/PMC2...</td>\n",
       "      <td>en</td>\n",
       "      <td>en</td>\n",
       "    </tr>\n",
       "    <tr>\n",
       "      <th>5</th>\n",
       "      <td>ae1f8642745871a574c0fe8193112b06a8b07212</td>\n",
       "      <td>Human adenovirus 52 (HAdV-52) is one of only t...</td>\n",
       "      <td>pivbr2ke</td>\n",
       "      <td>PMC</td>\n",
       "      <td>Polysialic acid is a cellular receptor for hum...</td>\n",
       "      <td>10.1073/pnas.1716900115</td>\n",
       "      <td>PMC5939068</td>\n",
       "      <td>29674446</td>\n",
       "      <td>cc-by-nc-nd</td>\n",
       "      <td>Human adenovirus 52 (HAdV-52) is one of only t...</td>\n",
       "      <td>...</td>\n",
       "      <td>Lenman, Annasara; Liaci, A. Manuel; Liu, Yan; ...</td>\n",
       "      <td>Proc Natl Acad Sci U S A</td>\n",
       "      <td>NaN</td>\n",
       "      <td>NaN</td>\n",
       "      <td>True</td>\n",
       "      <td>True</td>\n",
       "      <td>noncomm_use_subset</td>\n",
       "      <td>https://www.ncbi.nlm.nih.gov/pmc/articles/PMC5...</td>\n",
       "      <td>en</td>\n",
       "      <td>en</td>\n",
       "    </tr>\n",
       "  </tbody>\n",
       "</table>\n",
       "<p>5 rows × 21 columns</p>\n",
       "</div>"
      ],
      "text/plain": [
       "                                   paper_id  \\\n",
       "0  bd667dbd5200c9f07fb07cef29435f7ca7c2639b   \n",
       "1  34fca1fbc149711e5617126584d1e26f06e94de9   \n",
       "2  3c3ab717ef79befde82029b1362348708998d17e   \n",
       "4  3041dc5ba951755241ae7e75ade271188033d4de   \n",
       "5  ae1f8642745871a574c0fe8193112b06a8b07212   \n",
       "\n",
       "                                           body_text  cord_uid source_x  \\\n",
       "0  Epizootic catarrhal enteritis (EcE), a new ent...  3g75spkc      PMC   \n",
       "1  T he ability to predict and prevent viral epid...       NaN      NaN   \n",
       "2  IMPORTANCE Most studies examining the host tra...  iftvp09u      PMC   \n",
       "4  sequential addition of N-acetylgalactosamine, ...  4pv1zu1g      PMC   \n",
       "5  Human adenovirus 52 (HAdV-52) is one of only t...  pivbr2ke      PMC   \n",
       "\n",
       "                                               title                      doi  \\\n",
       "0  Establishment of serological test to detect an...     10.1292/jvms.16-0059   \n",
       "1                                                NaN                      NaN   \n",
       "2  Unique Signatures of Long Noncoding RNA Expres...    10.1128/mbio.00206-10   \n",
       "4  O-glycosylation of intact and truncated riboph...                      NaN   \n",
       "5  Polysialic acid is a cellular receptor for hum...  10.1073/pnas.1716900115   \n",
       "\n",
       "        pmcid pubmed_id      license  \\\n",
       "0  PMC4937135  26935842  cc-by-nc-nd   \n",
       "1         NaN       NaN          NaN   \n",
       "2  PMC2962437  20978541  cc-by-nc-sa   \n",
       "4  PMC2289488   1577870  cc-by-nc-sa   \n",
       "5  PMC5939068  29674446  cc-by-nc-nd   \n",
       "\n",
       "                                            abstract  ...  \\\n",
       "0  Since there is no available serological method...  ...   \n",
       "1  The large virus family Paramyxoviridae include...  ...   \n",
       "2  Studies of the host response to virus infectio...  ...   \n",
       "4  Ribophorins I and II are type I transmembrane ...  ...   \n",
       "5  Human adenovirus 52 (HAdV-52) is one of only t...  ...   \n",
       "\n",
       "                                             authors  \\\n",
       "0  MINAMI, Shohei; TERADA, Yutaka; SHIMODA, Hiros...   \n",
       "1                                                NaN   \n",
       "2  Peng, Xinxia; Gralinski, Lisa; Armour, Christo...   \n",
       "4                                                NaN   \n",
       "5  Lenman, Annasara; Liaci, A. Manuel; Liu, Yan; ...   \n",
       "\n",
       "                    journal Microsoft Academic Paper ID WHO #Covidence  \\\n",
       "0             J Vet Med Sci                         NaN            NaN   \n",
       "1                       NaN                         NaN            NaN   \n",
       "2                      mBio                         NaN            NaN   \n",
       "4               J Cell Biol                         NaN            NaN   \n",
       "5  Proc Natl Acad Sci U S A                         NaN            NaN   \n",
       "\n",
       "  has_pdf_parse has_pmc_xml_parse      full_text_file  \\\n",
       "0          True              True  noncomm_use_subset   \n",
       "1           NaN               NaN                 NaN   \n",
       "2          True              True  noncomm_use_subset   \n",
       "4          True              True  noncomm_use_subset   \n",
       "5          True              True  noncomm_use_subset   \n",
       "\n",
       "                                                 url abstract_lang body_lang  \n",
       "0  https://www.ncbi.nlm.nih.gov/pmc/articles/PMC4...            en        en  \n",
       "1                                                NaN            en        en  \n",
       "2  https://www.ncbi.nlm.nih.gov/pmc/articles/PMC2...            en        en  \n",
       "4  https://www.ncbi.nlm.nih.gov/pmc/articles/PMC2...            en        en  \n",
       "5  https://www.ncbi.nlm.nih.gov/pmc/articles/PMC5...            en        en  \n",
       "\n",
       "[5 rows x 21 columns]"
      ]
     },
     "execution_count": 14,
     "metadata": {},
     "output_type": "execute_result"
    }
   ],
   "source": [
    "df = df[(df.abstract_lang == 'en') & (df.body_lang == 'en')]\n",
    "df.head()"
   ]
  },
  {
   "cell_type": "code",
   "execution_count": 15,
   "metadata": {},
   "outputs": [],
   "source": [
    "df['publish_year'] = pd.DatetimeIndex(df['publish_time']).year"
   ]
  },
  {
   "cell_type": "code",
   "execution_count": 16,
   "metadata": {},
   "outputs": [],
   "source": [
    "# medium model\n",
    "nlp = en_core_sci_md.load(disable=[\"tagger\", \"parser\", \"ner\"])\n",
    "nlp.max_length = 2000000\n",
    "\n",
    "customize_stop_words = [\n",
    "    'doi', 'preprint', 'copyright', 'peer', 'reviewed', 'org', 'https', 'et', 'al', 'author', 'figure', \n",
    "    'rights', 'reserved', 'permission', 'used', 'using', 'biorxiv', 'fig', 'fig.', 'al.', \n",
    "    'di', 'la', 'il', 'del', 'le', 'della', 'dei', 'delle', 'una', 'da',  'dell',  'non', 'si'\n",
    "]\n",
    "\n",
    "# Mark them as stop words\n",
    "for w in customize_stop_words:\n",
    "    nlp.vocab[w].is_stop = True\n",
    "\n",
    "\n",
    "def lemmatize_text(text, nlp=nlp):\n",
    "    doc = nlp(text)\n",
    "    lemmatized_tokens = [token.lemma_ if token.lemma_ != \"-PRON-\" else token.text.lower() for token in doc \n",
    "                         if not (token.like_num or token.is_stop or token.is_punct or token.is_space or len(token)==1)]\n",
    "    return \" \".join(lemmatized_tokens)\n",
    "\n",
    "\n",
    "def normalize_corpus(corpus, nlp=nlp):\n",
    "    txt = lemmatize_text(corpus, nlp)\n",
    "    return txt"
   ]
  },
  {
   "cell_type": "code",
   "execution_count": 17,
   "metadata": {},
   "outputs": [
    {
     "name": "stderr",
     "output_type": "stream",
     "text": [
      "100%|██████████| 34820/34820 [07:27<00:00, 77.90it/s] \n"
     ]
    }
   ],
   "source": [
    "df['preprocessed_body_text'] = df['body_text'].progress_apply(normalize_corpus)"
   ]
  },
  {
   "cell_type": "code",
   "execution_count": 18,
   "metadata": {},
   "outputs": [],
   "source": [
    "df.reset_index(inplace = True)"
   ]
  },
  {
   "cell_type": "code",
   "execution_count": 19,
   "metadata": {},
   "outputs": [],
   "source": [
    "fl = open(\"../../data/processed/processed_data.pkl\", \"wb\")\n",
    "pickle.dump(df, fl)\n",
    "fl.close()"
   ]
  },
  {
   "cell_type": "code",
   "execution_count": 20,
   "metadata": {},
   "outputs": [],
   "source": [
    "df.to_csv(\"../../data/processed/processed_data.csv\")"
   ]
  },
  {
   "cell_type": "markdown",
   "metadata": {},
   "source": [
    "# 3) Explore the data"
   ]
  },
  {
   "cell_type": "raw",
   "metadata": {},
   "source": [
    "Created dataframe consits of all documents from COVID-19 databases that are related to coronavirus. Text first was preprocessed and filter out to contain only english abstracts."
   ]
  },
  {
   "cell_type": "code",
   "execution_count": 21,
   "metadata": {},
   "outputs": [
    {
     "data": {
      "text/html": [
       "<div>\n",
       "<style scoped>\n",
       "    .dataframe tbody tr th:only-of-type {\n",
       "        vertical-align: middle;\n",
       "    }\n",
       "\n",
       "    .dataframe tbody tr th {\n",
       "        vertical-align: top;\n",
       "    }\n",
       "\n",
       "    .dataframe thead th {\n",
       "        text-align: right;\n",
       "    }\n",
       "</style>\n",
       "<table border=\"1\" class=\"dataframe\">\n",
       "  <thead>\n",
       "    <tr style=\"text-align: right;\">\n",
       "      <th></th>\n",
       "      <th>index</th>\n",
       "      <th>paper_id</th>\n",
       "      <th>body_text</th>\n",
       "      <th>cord_uid</th>\n",
       "      <th>source_x</th>\n",
       "      <th>title</th>\n",
       "      <th>doi</th>\n",
       "      <th>pmcid</th>\n",
       "      <th>pubmed_id</th>\n",
       "      <th>license</th>\n",
       "      <th>...</th>\n",
       "      <th>Microsoft Academic Paper ID</th>\n",
       "      <th>WHO #Covidence</th>\n",
       "      <th>has_pdf_parse</th>\n",
       "      <th>has_pmc_xml_parse</th>\n",
       "      <th>full_text_file</th>\n",
       "      <th>url</th>\n",
       "      <th>abstract_lang</th>\n",
       "      <th>body_lang</th>\n",
       "      <th>publish_year</th>\n",
       "      <th>preprocessed_body_text</th>\n",
       "    </tr>\n",
       "  </thead>\n",
       "  <tbody>\n",
       "    <tr>\n",
       "      <th>0</th>\n",
       "      <td>0</td>\n",
       "      <td>bd667dbd5200c9f07fb07cef29435f7ca7c2639b</td>\n",
       "      <td>Epizootic catarrhal enteritis (EcE), a new ent...</td>\n",
       "      <td>3g75spkc</td>\n",
       "      <td>PMC</td>\n",
       "      <td>Establishment of serological test to detect an...</td>\n",
       "      <td>10.1292/jvms.16-0059</td>\n",
       "      <td>PMC4937135</td>\n",
       "      <td>26935842</td>\n",
       "      <td>cc-by-nc-nd</td>\n",
       "      <td>...</td>\n",
       "      <td>NaN</td>\n",
       "      <td>NaN</td>\n",
       "      <td>True</td>\n",
       "      <td>True</td>\n",
       "      <td>noncomm_use_subset</td>\n",
       "      <td>https://www.ncbi.nlm.nih.gov/pmc/articles/PMC4...</td>\n",
       "      <td>en</td>\n",
       "      <td>en</td>\n",
       "      <td>2016.0</td>\n",
       "      <td>Epizootic catarrhal enteritis EcE new enteric ...</td>\n",
       "    </tr>\n",
       "    <tr>\n",
       "      <th>1</th>\n",
       "      <td>1</td>\n",
       "      <td>34fca1fbc149711e5617126584d1e26f06e94de9</td>\n",
       "      <td>T he ability to predict and prevent viral epid...</td>\n",
       "      <td>NaN</td>\n",
       "      <td>NaN</td>\n",
       "      <td>NaN</td>\n",
       "      <td>NaN</td>\n",
       "      <td>NaN</td>\n",
       "      <td>NaN</td>\n",
       "      <td>NaN</td>\n",
       "      <td>...</td>\n",
       "      <td>NaN</td>\n",
       "      <td>NaN</td>\n",
       "      <td>NaN</td>\n",
       "      <td>NaN</td>\n",
       "      <td>NaN</td>\n",
       "      <td>NaN</td>\n",
       "      <td>en</td>\n",
       "      <td>en</td>\n",
       "      <td>NaN</td>\n",
       "      <td>ability predict prevent viral epidemics major ...</td>\n",
       "    </tr>\n",
       "  </tbody>\n",
       "</table>\n",
       "<p>2 rows × 24 columns</p>\n",
       "</div>"
      ],
      "text/plain": [
       "   index                                  paper_id  \\\n",
       "0      0  bd667dbd5200c9f07fb07cef29435f7ca7c2639b   \n",
       "1      1  34fca1fbc149711e5617126584d1e26f06e94de9   \n",
       "\n",
       "                                           body_text  cord_uid source_x  \\\n",
       "0  Epizootic catarrhal enteritis (EcE), a new ent...  3g75spkc      PMC   \n",
       "1  T he ability to predict and prevent viral epid...       NaN      NaN   \n",
       "\n",
       "                                               title                   doi  \\\n",
       "0  Establishment of serological test to detect an...  10.1292/jvms.16-0059   \n",
       "1                                                NaN                   NaN   \n",
       "\n",
       "        pmcid pubmed_id      license  ... Microsoft Academic Paper ID  \\\n",
       "0  PMC4937135  26935842  cc-by-nc-nd  ...                         NaN   \n",
       "1         NaN       NaN          NaN  ...                         NaN   \n",
       "\n",
       "  WHO #Covidence has_pdf_parse has_pmc_xml_parse      full_text_file  \\\n",
       "0            NaN          True              True  noncomm_use_subset   \n",
       "1            NaN           NaN               NaN                 NaN   \n",
       "\n",
       "                                                 url abstract_lang body_lang  \\\n",
       "0  https://www.ncbi.nlm.nih.gov/pmc/articles/PMC4...            en        en   \n",
       "1                                                NaN            en        en   \n",
       "\n",
       "  publish_year                             preprocessed_body_text  \n",
       "0       2016.0  Epizootic catarrhal enteritis EcE new enteric ...  \n",
       "1          NaN  ability predict prevent viral epidemics major ...  \n",
       "\n",
       "[2 rows x 24 columns]"
      ]
     },
     "execution_count": 21,
     "metadata": {},
     "output_type": "execute_result"
    }
   ],
   "source": [
    "df.head(2)"
   ]
  },
  {
   "cell_type": "markdown",
   "metadata": {},
   "source": [
    "# Articles by Source\n",
    "Graph below shows articles grouped by their source. Most of the articles in our datasets is from PMC and Elsevier. \n",
    "PubMed Central(PMC) is a free full-text archive of biomedical and life sciences journal literature at the U.S. National Institutes of Health's National Library of Medicine (NIH/NLM). Elsevier is a global information analytics business specializing in science and health founded in Netherlands."
   ]
  },
  {
   "cell_type": "code",
   "execution_count": 22,
   "metadata": {},
   "outputs": [
    {
     "data": {
      "text/plain": [
       "<matplotlib.axes._subplots.AxesSubplot at 0x7f98fbe937f0>"
      ]
     },
     "execution_count": 22,
     "metadata": {},
     "output_type": "execute_result"
    },
    {
     "data": {
      "image/png": "[encoded data removed]",
      "text/plain": [
       "<Figure size 504x360 with 1 Axes>"
      ]
     },
     "metadata": {
      "needs_background": "light"
     },
     "output_type": "display_data"
    }
   ],
   "source": [
    "source_data = df['source_x'].value_counts().sort_values(ascending=False)\n",
    "fig, sd = plt.subplots(figsize=(7, 5))\n",
    "sd.spines[\"top\"].set_visible(False)\n",
    "sd.spines[\"right\"].set_visible(False)\n",
    "\n",
    "source_data.plot(ax=sd, title=\"Articles by Source\", kind='bar', color='#0066CC')"
   ]
  },
  {
   "cell_type": "markdown",
   "metadata": {},
   "source": [
    "# Articles grouped by Publications\n",
    "The following graph shows the articles grouped by publication. There are displayed only Top 15 Publications, many articles does not have publication."
   ]
  },
  {
   "cell_type": "code",
   "execution_count": 23,
   "metadata": {},
   "outputs": [
    {
     "data": {
      "text/plain": [
       "<matplotlib.axes._subplots.AxesSubplot at 0x7f98fbe7b3c8>"
      ]
     },
     "execution_count": 23,
     "metadata": {},
     "output_type": "execute_result"
    },
    {
     "data": {
      "image/png": "[encoded data removed]",
      "text/plain": [
       "<Figure size 1440x1080 with 1 Axes>"
      ]
     },
     "metadata": {
      "needs_background": "light"
     },
     "output_type": "display_data"
    }
   ],
   "source": [
    "by_journal = df['journal'].value_counts().sort_values(ascending=True).tail(25)\n",
    "fig, jd = plt.subplots(figsize=(20, 15))\n",
    "jd.spines[\"top\"].set_visible(False)\n",
    "jd.spines[\"right\"].set_visible(False)\n",
    "\n",
    "by_journal.plot(ax=jd, title=\"Articles by Publication\", kind='barh', color='#0066CC')"
   ]
  },
  {
   "cell_type": "markdown",
   "metadata": {},
   "source": [
    "# Articles by date of published\n",
    "Graph shows number of articles published every month. Recent months are the most fruitful in coronavirus literature."
   ]
  },
  {
   "cell_type": "code",
   "execution_count": 27,
   "metadata": {},
   "outputs": [
    {
     "name": "stderr",
     "output_type": "stream",
     "text": [
      "/opt/conda/lib/python3.7/site-packages/ipykernel_launcher.py:2: FutureWarning: Comparing Series of datetimes with 'datetime.date'.  Currently, the\n",
      "'datetime.date' is coerced to a datetime. In the future pandas will\n",
      "not coerce, and a TypeError will be raised. To retain the current\n",
      "behavior, convert the 'datetime.date' to a datetime with\n",
      "'pd.Timestamp'.\n",
      "  \n"
     ]
    },
    {
     "data": {
      "text/plain": [
       "<matplotlib.axes._subplots.AxesSubplot at 0x7f98fb90d2e8>"
      ]
     },
     "execution_count": 27,
     "metadata": {},
     "output_type": "execute_result"
    },
    {
     "data": {
      "image/png": "[encoded data removed]",
      "text/plain": [
       "<Figure size 1800x504 with 1 Axes>"
      ]
     },
     "metadata": {
      "needs_background": "light"
     },
     "output_type": "display_data"
    }
   ],
   "source": [
    "df['publish_time'] = pd.to_datetime(df['publish_time'])\n",
    "df_pb = df[df['publish_time']<=datetime.date(2020,4,30)]\n",
    "by_pub_time =  df_pb['publish_time'].value_counts().sort_index().groupby(pd.Grouper(freq='M')).sum()[-50:]\n",
    "by_pub_time.index = by_pub_time.index.date\n",
    "\n",
    "fig, ax = plt.subplots(figsize=(25, 7))\n",
    "ax.spines[\"top\"].set_visible(False)\n",
    "ax.spines[\"right\"].set_visible(False)\n",
    "\n",
    "by_pub_time.plot(ax=ax, title=\"Articles by Time of Publication\", kind='bar', color='#0066CC')"
   ]
  },
  {
   "cell_type": "markdown",
   "metadata": {},
   "source": [
    "# Word cloud based on most popular words in Titles"
   ]
  },
  {
   "cell_type": "code",
   "execution_count": 28,
   "metadata": {},
   "outputs": [],
   "source": [
    "def tokenize_text(text):\n",
    "    return [token.strip() for token in nltk.word_tokenize(text)]"
   ]
  },
  {
   "cell_type": "code",
   "execution_count": null,
   "metadata": {},
   "outputs": [],
   "source": [
    "nltk.download('punkt')"
   ]
  },
  {
   "cell_type": "code",
   "execution_count": 29,
   "metadata": {},
   "outputs": [
    {
     "name": "stderr",
     "output_type": "stream",
     "text": [
      "100%|██████████| 31580/31580 [00:02<00:00, 14615.86it/s]\n",
      "/opt/conda/lib/python3.7/site-packages/ipykernel_launcher.py:2: SettingWithCopyWarning: \n",
      "A value is trying to be set on a copy of a slice from a DataFrame.\n",
      "Try using .loc[row_indexer,col_indexer] = value instead\n",
      "\n",
      "See the caveats in the documentation: http://pandas.pydata.org/pandas-docs/stable/user_guide/indexing.html#returning-a-view-versus-a-copy\n",
      "  \n"
     ]
    }
   ],
   "source": [
    "data_title = df[df['title'].notnull()]\n",
    "data_title['processed_title'] = data_title['title'].progress_apply(normalize_corpus)\n",
    "data_title.reset_index(inplace=True)"
   ]
  },
  {
   "cell_type": "code",
   "execution_count": 33,
   "metadata": {},
   "outputs": [],
   "source": [
    "words = pd.Series(np.concatenate([tokenize_text(x) for x in data_title['processed_title']])).value_counts()"
   ]
  },
  {
   "cell_type": "code",
   "execution_count": 34,
   "metadata": {},
   "outputs": [],
   "source": [
    "def wordcloud_plot(df):\n",
    "    np.random.seed(64)\n",
    "    \n",
    "    wc = WordCloud(\n",
    "    background_color=\"white\",\n",
    "    max_words=150,\n",
    "    max_font_size=35,\n",
    "    scale=5,\n",
    "    random_state=0).generate_from_frequencies(df)\n",
    "    \n",
    "    fig = plt.figure(1, figsize=(15,15))\n",
    "    plt.axis('off')\n",
    "    \n",
    "    plt.imshow(wc)\n",
    "    plt.show()"
   ]
  },
  {
   "cell_type": "code",
   "execution_count": 35,
   "metadata": {},
   "outputs": [
    {
     "data": {
      "image/png": "[encoded data removed]",
      "text/plain": [
       "<Figure size 1080x1080 with 1 Axes>"
      ]
     },
     "metadata": {
      "needs_background": "light"
     },
     "output_type": "display_data"
    }
   ],
   "source": [
    "wordcloud_plot(words)"
   ]
  },
  {
   "cell_type": "markdown",
   "metadata": {},
   "source": [
    "# 4) Clustering"
   ]
  },
  {
   "cell_type": "raw",
   "metadata": {},
   "source": [
    " Clustering method used to find similiar documents based on preprocessed texts from articles."
   ]
  },
  {
   "cell_type": "code",
   "execution_count": null,
   "metadata": {},
   "outputs": [],
   "source": [
    "# loading if needed\n",
    "fl = open(\"../../data/processed/processed_data.pkl\", \"rb\")\n",
    "df = pickle.load(fl)"
   ]
  },
  {
   "cell_type": "code",
   "execution_count": 37,
   "metadata": {},
   "outputs": [
    {
     "name": "stderr",
     "output_type": "stream",
     "text": [
      "100%|██████████| 34820/34820 [00:54<00:00, 637.29it/s]\n"
     ]
    }
   ],
   "source": [
    "# compute tf-idf\n",
    "vectorizer = TfidfVectorizer(max_features=2**12)\n",
    "X = vectorizer.fit_transform(tqdm(df['preprocessed_body_text']))"
   ]
  },
  {
   "cell_type": "markdown",
   "metadata": {},
   "source": [
    "## Elbow method to choose k parameter"
   ]
  },
  {
   "cell_type": "code",
   "execution_count": null,
   "metadata": {},
   "outputs": [],
   "source": [
    "WCSS = []\n",
    "for i in tqdm(range(1, 40)):\n",
    "    km = MiniBatchKMeans(n_clusters=i, random_state=0)\n",
    "    km.fit(X)\n",
    "    WCSS.append(km.inertia_)"
   ]
  },
  {
   "cell_type": "code",
   "execution_count": null,
   "metadata": {},
   "outputs": [],
   "source": [
    "plt.plot(range(1, 40), WCSS, marker='o')\n",
    "plt.xlabel('k')\n",
    "plt.ylabel('WCSS')\n",
    "plt.show()"
   ]
  },
  {
   "cell_type": "code",
   "execution_count": 38,
   "metadata": {},
   "outputs": [],
   "source": [
    "# run k-means with k = 18\n",
    "k = 18\n",
    "kmeans = MiniBatchKMeans(n_clusters=k, random_state=0)\n",
    "y_pred = kmeans.fit_predict(X)"
   ]
  },
  {
   "cell_type": "markdown",
   "metadata": {},
   "source": [
    "## Merge df"
   ]
  },
  {
   "cell_type": "code",
   "execution_count": 39,
   "metadata": {},
   "outputs": [],
   "source": [
    "# add clusters to data frame\n",
    "df_cluster = pd.DataFrame(y_pred, columns = [\"cluster_k_means\"])\n",
    "df = pd.merge(df, df_cluster, left_index = True, right_index = True)"
   ]
  },
  {
   "cell_type": "code",
   "execution_count": 40,
   "metadata": {},
   "outputs": [],
   "source": [
    "# save it\n",
    "fl = open(\"../../data/processed/df_with_cluster.pkl\", \"wb\")\n",
    "pickle.dump(df, fl)\n",
    "fl.close()"
   ]
  },
  {
   "cell_type": "code",
   "execution_count": 41,
   "metadata": {},
   "outputs": [],
   "source": [
    "df.to_csv(\"../../data/processed/df_with_cluster.csv\")"
   ]
  },
  {
   "cell_type": "markdown",
   "metadata": {},
   "source": [
    "# 5) Keywords generation"
   ]
  },
  {
   "cell_type": "raw",
   "metadata": {},
   "source": [
    "First keywords for specific topics were assigned by medical experts."
   ]
  },
  {
   "cell_type": "code",
   "execution_count": 11,
   "metadata": {},
   "outputs": [],
   "source": [
    "# loading if needed\n",
    "fl = open(\"../../data/processed/df_with_cluster.pkl\", \"rb\")\n",
    "df = pickle.load(fl)"
   ]
  },
  {
   "cell_type": "code",
   "execution_count": 10,
   "metadata": {},
   "outputs": [],
   "source": [
    "keywords_therapeutic = [\n",
    "    'clinical trial',\n",
    "    'therapeutic',\n",
    "    'therapy',\n",
    "    'clinical effectiveness',\n",
    "    'actemra',\n",
    "    'ADE',\n",
    "    'inflammatory response',\n",
    "    'ACE-2',\n",
    "    'Camostat Mesilate',\n",
    "    'interferon beta',\n",
    "    'interferon alpha',\n",
    "    'tocilizumab']"
   ]
  },
  {
   "cell_type": "code",
   "execution_count": 11,
   "metadata": {},
   "outputs": [],
   "source": [
    "keywords_vaccine = ['vaccine',\n",
    "                    'vaccines',\n",
    "                    'dna',\n",
    "                    'inactivated',\n",
    "                    'live attenuated virus',\n",
    "                    'lav',\n",
    "                    'non-replicating viral vector',\n",
    "                    'protein subunit',\n",
    "                    'replicating viral vector',\n",
    "                    'rna',\n",
    "                    'virus-like particle',\n",
    "                    'vlp',\n",
    "                    'viral',\n",
    "                    'anti-viral',\n",
    "                    'inhibitor',\n",
    "                    'immune',\n",
    "                    'antibodies',\n",
    "                    'adenoviruses',\n",
    "                    'antigen',\n",
    "                    'lentiviral',\n",
    "                    'mrna', \n",
    "                    'naproxen', \n",
    "                    'clarithromycin',  \n",
    "                    'minocyclinethat']"
   ]
  },
  {
   "cell_type": "code",
   "execution_count": 12,
   "metadata": {},
   "outputs": [],
   "source": [
    "keywords_general = ['covid-19', \n",
    "                    'coronavirus', \n",
    "                    '2019-ncov' , \n",
    "                    'covs', \n",
    "                    'sars cov2', \n",
    "                    'coronae', \n",
    "                    'positive-sense rna viruses']"
   ]
  },
  {
   "cell_type": "code",
   "execution_count": 13,
   "metadata": {},
   "outputs": [],
   "source": [
    "keywords_ade = ['ADE', \n",
    "                'Antibody-Dependent Enhancement', \n",
    "                'variable S domain', \n",
    "                's protein', \n",
    "                'p0dtc2', \n",
    "                'Spike glycoprotein', \n",
    "                'amino acid residue variation analysis', \n",
    "                'APC', \n",
    "                'Autophagy inhibitors', \n",
    "                'HL-CZ human promonocyte cell line', \n",
    "                'TNF-α', \n",
    "                'IL-4', \n",
    "                'IL-6']"
   ]
  },
  {
   "cell_type": "code",
   "execution_count": 14,
   "metadata": {},
   "outputs": [],
   "source": [
    "keywords_animal = ['animal models', \n",
    "                   'mouse', \n",
    "                   'guinea pigs', \n",
    "                   'golden Syrian hamsters', \n",
    "                   'ferrets', \n",
    "                   'rabbits', \n",
    "                   'rhesus macaques', \n",
    "                   'marmosets', \n",
    "                   'cats']"
   ]
  },
  {
   "cell_type": "code",
   "execution_count": 15,
   "metadata": {},
   "outputs": [],
   "source": [
    "keywords_drugs = ['viral inhibitor', \n",
    "                  'viral replication', \n",
    "                  'clinical trial', \n",
    "                  'bench trial', \n",
    "                  'clarithromycin', \n",
    "                  'minocycline', \n",
    "                  'remdesivir',\n",
    "                  'hydroxychloroquine',\n",
    "                  'azithromycin', \n",
    "                  'lopinavir', \n",
    "                  'nsp5', \n",
    "                  'C30 Endopeptidase', \n",
    "                  'ritonavir', \n",
    "                  'actemra', \n",
    "                  'naproxen']"
   ]
  },
  {
   "cell_type": "code",
   "execution_count": 16,
   "metadata": {},
   "outputs": [],
   "source": [
    "keywords = keywords_general + keywords_therapeutic + keywords_vaccine + keywords_ade + keywords_animal + keywords_drugs "
   ]
  },
  {
   "cell_type": "markdown",
   "metadata": {},
   "source": [
    "## 6) Tokenize and generate similar keywords"
   ]
  },
  {
   "cell_type": "markdown",
   "metadata": {},
   "source": [
    "Building vectors for CORD-19 datasets with FastText. Vectors will be use for generating similiar words to keywords."
   ]
  },
  {
   "cell_type": "code",
   "execution_count": 12,
   "metadata": {},
   "outputs": [],
   "source": [
    "def split_sentences(text):\n",
    "    sentences_string = []\n",
    "    for line in text.split('\\n'):\n",
    "        l = re.match(r'^(?:(?P<precolon>[^:]{,20}):)?(?P<postcolon>.*)$', line)\n",
    "        sentences_string.extend(sent for sent in l.groupdict()['postcolon'].split('.') if sent)\n",
    "    sentences = []\n",
    "    for sentence in sentences_string:\n",
    "        token = re.sub(r\"[^a-z0-9]+\", \" \", sentence.lower()).split()\n",
    "        token = [tok for tok in token if len(tok) > 2]\n",
    "        token = [x for x in token if not x.isdigit()]\n",
    "        if len(token) > 2:\n",
    "            sentences.append(token)\n",
    "    return sentences"
   ]
  },
  {
   "cell_type": "code",
   "execution_count": 13,
   "metadata": {},
   "outputs": [
    {
     "name": "stderr",
     "output_type": "stream",
     "text": [
      "100%|██████████| 34820/34820 [01:04<00:00, 543.85it/s]\n"
     ]
    }
   ],
   "source": [
    "df['sentences'] = df['preprocessed_body_text'].progress_apply(split_sentences) "
   ]
  },
  {
   "cell_type": "code",
   "execution_count": 14,
   "metadata": {},
   "outputs": [],
   "source": [
    "def flatten(lists):\n",
    "    results = []\n",
    "    for row in lists:\n",
    "        for inside_list in row:\n",
    "            results.append(inside_list) \n",
    "    return results"
   ]
  },
  {
   "cell_type": "code",
   "execution_count": 15,
   "metadata": {},
   "outputs": [],
   "source": [
    "input_model = flatten(df['sentences'].to_list()) "
   ]
  },
  {
   "cell_type": "code",
   "execution_count": 16,
   "metadata": {},
   "outputs": [],
   "source": [
    "model = FastText(size=1000, window=3, min_count=5, workers=4, min_n=2, hs=1)\n",
    "model.build_vocab(input_model)"
   ]
  },
  {
   "cell_type": "code",
   "execution_count": 17,
   "metadata": {},
   "outputs": [],
   "source": [
    "model.train(input_model, total_examples=model.corpus_count, epochs=1) "
   ]
  },
  {
   "cell_type": "code",
   "execution_count": 18,
   "metadata": {},
   "outputs": [],
   "source": [
    "model.save(\"../models/fasttext.model\") "
   ]
  },
  {
   "cell_type": "code",
   "execution_count": 19,
   "metadata": {},
   "outputs": [
    {
     "data": {
      "text/plain": [
       "[('covid19', 0.7477694749832153),\n",
       " ('covid', 0.7136983871459961),\n",
       " ('ncovid', 0.6555148363113403),\n",
       " ('covidsim', 0.6544382572174072),\n",
       " ('pc4covid19', 0.6083848476409912)]"
      ]
     },
     "execution_count": 19,
     "metadata": {},
     "output_type": "execute_result"
    }
   ],
   "source": [
    "model.wv.most_similar(\"covid-19\", topn=5) "
   ]
  },
  {
   "cell_type": "code",
   "execution_count": 20,
   "metadata": {},
   "outputs": [],
   "source": [
    "def generate_keywords(keywords_list):\n",
    "    model_keys = []\n",
    "    for key in keywords_list:\n",
    "        key_generated = model.wv.most_similar(key, topn=5)\n",
    "        model_keys.append([i[0] for i in key_generated])\n",
    "    return model_keys"
   ]
  },
  {
   "cell_type": "code",
   "execution_count": 21,
   "metadata": {},
   "outputs": [],
   "source": [
    "keywords_general_plus = flatten(generate_keywords(keywords_general)) "
   ]
  },
  {
   "cell_type": "code",
   "execution_count": 22,
   "metadata": {},
   "outputs": [],
   "source": [
    "keywords_plus = flatten(generate_keywords(keywords)) "
   ]
  },
  {
   "cell_type": "code",
   "execution_count": 23,
   "metadata": {},
   "outputs": [],
   "source": [
    "# save it\n",
    "fl = open(\"../../data/processed/keywords_general_plus.pkl\", \"wb\")\n",
    "pickle.dump(keywords_general_plus, fl)\n",
    "fl.close()\n",
    "\n",
    "fl = open(\"../../data/processed/keywords_plus.pkl\", \"wb\")\n",
    "pickle.dump(keywords_plus, fl)\n",
    "fl.close()"
   ]
  },
  {
   "cell_type": "markdown",
   "metadata": {},
   "source": [
    "# 7) Topic modelling"
   ]
  },
  {
   "cell_type": "markdown",
   "metadata": {},
   "source": [
    "Topic modeling is a type of statistical modeling for discovering the abstract `topics` that occur in a collection of documents. One of the best known techniques to do that is **Latent Dirichlet Allocation (LDA)**. LDA is a machine learning technique that represents documents as mixtures of topics that spit out words with certain probabilities."
   ]
  },
  {
   "cell_type": "code",
   "execution_count": null,
   "metadata": {},
   "outputs": [],
   "source": [
    "# loading if needed\n",
    "fl = open(\"../../data/processed/df_with_cluster.pkl\", \"rb\")\n",
    "df = pickle.load(fl)"
   ]
  },
  {
   "cell_type": "code",
   "execution_count": 22,
   "metadata": {},
   "outputs": [
    {
     "name": "stderr",
     "output_type": "stream",
     "text": [
      "100%|██████████| 34820/34820 [00:52<00:00, 662.96it/s]\n"
     ]
    }
   ],
   "source": [
    "# Count vectorizer works better than tfidf for lda\n",
    "vectorizer = CountVectorizer(max_features=2**12)\n",
    "data_vectorized = vectorizer.fit_transform(tqdm(df['preprocessed_body_text']))"
   ]
  },
  {
   "cell_type": "code",
   "execution_count": 23,
   "metadata": {},
   "outputs": [
    {
     "name": "stdout",
     "output_type": "stream",
     "text": [
      "iteration: 1 of max_iter: 10\n",
      "iteration: 2 of max_iter: 10\n",
      "iteration: 3 of max_iter: 10\n",
      "iteration: 4 of max_iter: 10\n",
      "iteration: 5 of max_iter: 10\n",
      "iteration: 6 of max_iter: 10\n",
      "iteration: 7 of max_iter: 10\n",
      "iteration: 8 of max_iter: 10\n",
      "iteration: 9 of max_iter: 10\n",
      "iteration: 10 of max_iter: 10\n"
     ]
    },
    {
     "data": {
      "text/plain": [
       "LatentDirichletAllocation(batch_size=128, doc_topic_prior=None,\n",
       "                          evaluate_every=-1, learning_decay=0.7,\n",
       "                          learning_method='batch', learning_offset=10.0,\n",
       "                          max_doc_update_iter=100, max_iter=10,\n",
       "                          mean_change_tol=0.001, n_components=20, n_jobs=-1,\n",
       "                          perp_tol=0.1, random_state=0, topic_word_prior=None,\n",
       "                          total_samples=1000000.0, verbose=True)"
      ]
     },
     "execution_count": 23,
     "metadata": {},
     "output_type": "execute_result"
    }
   ],
   "source": [
    "lda = LatentDirichletAllocation(n_components=20, random_state=0, n_jobs=-1, verbose=True)\n",
    "lda.fit(data_vectorized)"
   ]
  },
  {
   "cell_type": "code",
   "execution_count": 27,
   "metadata": {},
   "outputs": [
    {
     "data": {
      "text/plain": [
       "['../models/lda.csv']"
      ]
     },
     "execution_count": 27,
     "metadata": {},
     "output_type": "execute_result"
    }
   ],
   "source": [
    "joblib.dump(lda, '../models/lda.csv')"
   ]
  },
  {
   "cell_type": "markdown",
   "metadata": {},
   "source": [
    "Here we want to see what words are included in different topics"
   ]
  },
  {
   "cell_type": "code",
   "execution_count": 28,
   "metadata": {},
   "outputs": [],
   "source": [
    "def print_top_words(model, vectorizer, n_top_words):\n",
    "    feature_names = vectorizer.get_feature_names()\n",
    "    for topic_idx, topic in enumerate(model.components_):\n",
    "        message = \"\\nTopic #%d: \" % topic_idx\n",
    "        message += \" \".join([feature_names[i]\n",
    "                             for i in topic.argsort()[:-n_top_words - 1:-1]])\n",
    "        print(message)\n",
    "    print()"
   ]
  },
  {
   "cell_type": "code",
   "execution_count": 29,
   "metadata": {},
   "outputs": [
    {
     "name": "stdout",
     "output_type": "stream",
     "text": [
      "\n",
      "Topic #0: vaccine vaccines immune vaccination responses delivery immunity response cell antigen\n",
      "\n",
      "Topic #1: health public disease data risk information countries time control epidemic\n",
      "\n",
      "Topic #2: pcr samples rna rt positive assay virus detection dna detected\n",
      "\n",
      "Topic #3: cells protein cell fig expression proteins figure fusion anti binding\n",
      "\n",
      "Topic #4: patients treatment patient clinical use care risk infection therapy blood\n",
      "\n",
      "Topic #5: air study lung group patients time temperature rate mean results\n",
      "\n",
      "Topic #6: cov sars mers ace2 coronavirus human rbd respiratory coronaviruses camels\n",
      "\n",
      "Topic #7: cells cell expression disease patients immune inflammatory tissue mice levels\n",
      "\n",
      "Topic #8: infection disease cats calves respiratory clinical study children associated age\n",
      "\n",
      "Topic #9: protein rna proteins binding sequence structure residues domain site fig\n",
      "\n",
      "Topic #10: cells mice infection ifn il infected cell virus expression viral\n",
      "\n",
      "Topic #11: viral protein proteins virus cells expression cell replication infection host\n",
      "\n",
      "Topic #12: data model analysis number sequences genes different based sequence table\n",
      "\n",
      "Topic #13: virus human viruses disease infection species transmission animals host humans\n",
      "\n",
      "Topic #14: virus strains strain ibv viruses pedv gene protein influenza hcov\n",
      "\n",
      "Topic #15: cells virus cell membrane viral infected particles fig viruses ml\n",
      "\n",
      "Topic #16: patients influenza respiratory cases study infection children virus rsv age\n",
      "\n",
      "Topic #17: activity compounds ml acid concentration mg mm water compound fig\n",
      "\n",
      "Topic #18: antibody antibodies serum protein anti igg specific cells ml elisa\n",
      "\n",
      "Topic #19: detection based methods use pathogens dna human specific clinical molecular\n",
      "\n"
     ]
    }
   ],
   "source": [
    "print_top_words(lda, vectorizer, n_top_words=10)"
   ]
  },
  {
   "cell_type": "markdown",
   "metadata": {},
   "source": [
    "And create a dataframe with documents and their topic distribution"
   ]
  },
  {
   "cell_type": "code",
   "execution_count": 30,
   "metadata": {},
   "outputs": [],
   "source": [
    "doc_topic_dist = pd.DataFrame(lda.transform(data_vectorized))"
   ]
  },
  {
   "cell_type": "code",
   "execution_count": 31,
   "metadata": {},
   "outputs": [],
   "source": [
    "doc_topic_dist.to_csv('../models/doc_topic_dist.csv', index=False)"
   ]
  },
  {
   "cell_type": "code",
   "execution_count": 32,
   "metadata": {},
   "outputs": [],
   "source": [
    "# merge to df\n",
    "doc_topic_dist[\"cluster_lda\"] = doc_topic_dist.apply(lambda x: doc_topic_dist.columns[x.idxmax()], axis = \"columns\")\n",
    "df = pd.merge(df, doc_topic_dist[[\"cluster_lda\"]], left_index = True, right_index = True)"
   ]
  },
  {
   "cell_type": "code",
   "execution_count": 33,
   "metadata": {},
   "outputs": [],
   "source": [
    "# save it\n",
    "fl = open(\"../../data/processed/df_with_cluster_both.pkl\", \"wb\")\n",
    "pickle.dump(df, fl)\n",
    "fl.close()\n",
    "df.to_csv(\"../../data/processed/df_with_cluster_both.csv\")"
   ]
  },
  {
   "cell_type": "markdown",
   "metadata": {},
   "source": [
    "# 8) Filtering"
   ]
  },
  {
   "cell_type": "code",
   "execution_count": 4,
   "metadata": {},
   "outputs": [],
   "source": [
    "# loading if needed\n",
    "fl = open(\"../../data/processed/df_with_cluster_both.pkl\", \"rb\")\n",
    "df = pickle.load(fl)"
   ]
  },
  {
   "cell_type": "code",
   "execution_count": 34,
   "metadata": {},
   "outputs": [],
   "source": [
    "# filtering function\n",
    "def filter_papers_word_list(word_list, data, threshold = 0.3, keywords_general = keywords_general):\n",
    "    papers_id_list = []\n",
    "    for idx, paper in tqdm(data.iterrows(), total=df.shape[0]):\n",
    "        keys_in_text = [x in paper.body_text for x in word_list]\n",
    "        keys_general_in_text = [x in paper.body_text for x in keywords_general]\n",
    "        if (sum(keys_in_text) / len(word_list) > threshold) & any(keys_general_in_text):\n",
    "            papers_id_list.append(paper.paper_id)\n",
    "    return papers_id_list"
   ]
  },
  {
   "cell_type": "markdown",
   "metadata": {},
   "source": [
    "### Summary of filtering analysis (code below)\n",
    "threshold = 0.5 -> 0 rows in filtered data frame\n",
    "\n",
    "threshold = 0.38 -> 7 rows\n",
    "  * top k_means clusters: 1, 14, 11\n",
    "  * top lda clusters: 7, 8, 4, 6\n",
    "\n",
    "threshold = 0.3 -> ??\n",
    "  * top k_means clusters: ?\n",
    "  * top lda clusters: ?\n",
    "\n",
    "threshold = 0.25 -> ??\n",
    "  * top k_means clusters: ?\n",
    "  * top lda clusters: ?\n",
    "\n",
    "threshold = 0.2 -> ??\n",
    "  * top k_means clusters: ?\n",
    "  * top lda clusters: ?"
   ]
  },
  {
   "cell_type": "markdown",
   "metadata": {},
   "source": [
    "### Filtering analysis - code"
   ]
  },
  {
   "cell_type": "code",
   "execution_count": 35,
   "metadata": {},
   "outputs": [
    {
     "data": {
      "text/plain": [
       "(34820, 27)"
      ]
     },
     "execution_count": 35,
     "metadata": {},
     "output_type": "execute_result"
    }
   ],
   "source": [
    "df.shape"
   ]
  },
  {
   "cell_type": "code",
   "execution_count": 36,
   "metadata": {},
   "outputs": [],
   "source": [
    "# get cluster proportions\n",
    "def cluster_prop(data, var_name):\n",
    "    prop = data[var_name].value_counts().sort_values(ascending = False).to_frame().rename(columns = {var_name: \"count\"})\n",
    "    prop[\"prop_count\"] = prop[\"count\"] / prop[\"count\"].sum()\n",
    "    return prop"
   ]
  },
  {
   "cell_type": "code",
   "execution_count": 47,
   "metadata": {},
   "outputs": [
    {
     "name": "stderr",
     "output_type": "stream",
     "text": [
      "100%|██████████| 34820/34820 [01:23<00:00, 418.03it/s]\n"
     ]
    },
    {
     "data": {
      "text/plain": [
       "(7, 27)"
      ]
     },
     "execution_count": 47,
     "metadata": {},
     "output_type": "execute_result"
    }
   ],
   "source": [
    "# iteratively change threshold -> rerun\n",
    "filtered_general = filter_papers_word_list(keywords, df, threshold = 0.375)\n",
    "df_keywords = df[df['paper_id'].isin(filtered_general)]\n",
    "df_keywords.shape"
   ]
  },
  {
   "cell_type": "code",
   "execution_count": 48,
   "metadata": {},
   "outputs": [
    {
     "data": {
      "text/html": [
       "<div>\n",
       "<style scoped>\n",
       "    .dataframe tbody tr th:only-of-type {\n",
       "        vertical-align: middle;\n",
       "    }\n",
       "\n",
       "    .dataframe tbody tr th {\n",
       "        vertical-align: top;\n",
       "    }\n",
       "\n",
       "    .dataframe thead th {\n",
       "        text-align: right;\n",
       "    }\n",
       "</style>\n",
       "<table border=\"1\" class=\"dataframe\">\n",
       "  <thead>\n",
       "    <tr style=\"text-align: right;\">\n",
       "      <th></th>\n",
       "      <th>count</th>\n",
       "      <th>prop_count</th>\n",
       "    </tr>\n",
       "  </thead>\n",
       "  <tbody>\n",
       "    <tr>\n",
       "      <th>1</th>\n",
       "      <td>4133</td>\n",
       "      <td>0.118696</td>\n",
       "    </tr>\n",
       "    <tr>\n",
       "      <th>16</th>\n",
       "      <td>3647</td>\n",
       "      <td>0.104739</td>\n",
       "    </tr>\n",
       "    <tr>\n",
       "      <th>12</th>\n",
       "      <td>2245</td>\n",
       "      <td>0.064474</td>\n",
       "    </tr>\n",
       "    <tr>\n",
       "      <th>2</th>\n",
       "      <td>2045</td>\n",
       "      <td>0.058731</td>\n",
       "    </tr>\n",
       "    <tr>\n",
       "      <th>9</th>\n",
       "      <td>2016</td>\n",
       "      <td>0.057898</td>\n",
       "    </tr>\n",
       "    <tr>\n",
       "      <th>3</th>\n",
       "      <td>1903</td>\n",
       "      <td>0.054652</td>\n",
       "    </tr>\n",
       "  </tbody>\n",
       "</table>\n",
       "</div>"
      ],
      "text/plain": [
       "    count  prop_count\n",
       "1    4133    0.118696\n",
       "16   3647    0.104739\n",
       "12   2245    0.064474\n",
       "2    2045    0.058731\n",
       "9    2016    0.057898\n",
       "3    1903    0.054652"
      ]
     },
     "execution_count": 48,
     "metadata": {},
     "output_type": "execute_result"
    }
   ],
   "source": [
    "cluster_prop(df, \"cluster_lda\").head(6)"
   ]
  },
  {
   "cell_type": "code",
   "execution_count": 49,
   "metadata": {},
   "outputs": [
    {
     "data": {
      "text/html": [
       "<div>\n",
       "<style scoped>\n",
       "    .dataframe tbody tr th:only-of-type {\n",
       "        vertical-align: middle;\n",
       "    }\n",
       "\n",
       "    .dataframe tbody tr th {\n",
       "        vertical-align: top;\n",
       "    }\n",
       "\n",
       "    .dataframe thead th {\n",
       "        text-align: right;\n",
       "    }\n",
       "</style>\n",
       "<table border=\"1\" class=\"dataframe\">\n",
       "  <thead>\n",
       "    <tr style=\"text-align: right;\">\n",
       "      <th></th>\n",
       "      <th>count</th>\n",
       "      <th>prop_count</th>\n",
       "    </tr>\n",
       "  </thead>\n",
       "  <tbody>\n",
       "    <tr>\n",
       "      <th>7</th>\n",
       "      <td>4</td>\n",
       "      <td>0.571429</td>\n",
       "    </tr>\n",
       "    <tr>\n",
       "      <th>8</th>\n",
       "      <td>1</td>\n",
       "      <td>0.142857</td>\n",
       "    </tr>\n",
       "    <tr>\n",
       "      <th>4</th>\n",
       "      <td>1</td>\n",
       "      <td>0.142857</td>\n",
       "    </tr>\n",
       "    <tr>\n",
       "      <th>6</th>\n",
       "      <td>1</td>\n",
       "      <td>0.142857</td>\n",
       "    </tr>\n",
       "  </tbody>\n",
       "</table>\n",
       "</div>"
      ],
      "text/plain": [
       "   count  prop_count\n",
       "7      4    0.571429\n",
       "8      1    0.142857\n",
       "4      1    0.142857\n",
       "6      1    0.142857"
      ]
     },
     "execution_count": 49,
     "metadata": {},
     "output_type": "execute_result"
    }
   ],
   "source": [
    "cluster_prop(df_keywords, \"cluster_lda\").head(6)"
   ]
  },
  {
   "cell_type": "code",
   "execution_count": 50,
   "metadata": {},
   "outputs": [
    {
     "data": {
      "text/html": [
       "<div>\n",
       "<style scoped>\n",
       "    .dataframe tbody tr th:only-of-type {\n",
       "        vertical-align: middle;\n",
       "    }\n",
       "\n",
       "    .dataframe tbody tr th {\n",
       "        vertical-align: top;\n",
       "    }\n",
       "\n",
       "    .dataframe thead th {\n",
       "        text-align: right;\n",
       "    }\n",
       "</style>\n",
       "<table border=\"1\" class=\"dataframe\">\n",
       "  <thead>\n",
       "    <tr style=\"text-align: right;\">\n",
       "      <th></th>\n",
       "      <th>count</th>\n",
       "      <th>prop_count</th>\n",
       "    </tr>\n",
       "  </thead>\n",
       "  <tbody>\n",
       "    <tr>\n",
       "      <th>2</th>\n",
       "      <td>7608</td>\n",
       "      <td>0.218495</td>\n",
       "    </tr>\n",
       "    <tr>\n",
       "      <th>12</th>\n",
       "      <td>4826</td>\n",
       "      <td>0.138599</td>\n",
       "    </tr>\n",
       "    <tr>\n",
       "      <th>5</th>\n",
       "      <td>4145</td>\n",
       "      <td>0.119041</td>\n",
       "    </tr>\n",
       "    <tr>\n",
       "      <th>1</th>\n",
       "      <td>3104</td>\n",
       "      <td>0.089144</td>\n",
       "    </tr>\n",
       "    <tr>\n",
       "      <th>14</th>\n",
       "      <td>2606</td>\n",
       "      <td>0.074842</td>\n",
       "    </tr>\n",
       "    <tr>\n",
       "      <th>17</th>\n",
       "      <td>2159</td>\n",
       "      <td>0.062005</td>\n",
       "    </tr>\n",
       "  </tbody>\n",
       "</table>\n",
       "</div>"
      ],
      "text/plain": [
       "    count  prop_count\n",
       "2    7608    0.218495\n",
       "12   4826    0.138599\n",
       "5    4145    0.119041\n",
       "1    3104    0.089144\n",
       "14   2606    0.074842\n",
       "17   2159    0.062005"
      ]
     },
     "execution_count": 50,
     "metadata": {},
     "output_type": "execute_result"
    }
   ],
   "source": [
    "cluster_prop(df, \"cluster_k_means\").head(6)"
   ]
  },
  {
   "cell_type": "code",
   "execution_count": 51,
   "metadata": {},
   "outputs": [
    {
     "data": {
      "text/html": [
       "<div>\n",
       "<style scoped>\n",
       "    .dataframe tbody tr th:only-of-type {\n",
       "        vertical-align: middle;\n",
       "    }\n",
       "\n",
       "    .dataframe tbody tr th {\n",
       "        vertical-align: top;\n",
       "    }\n",
       "\n",
       "    .dataframe thead th {\n",
       "        text-align: right;\n",
       "    }\n",
       "</style>\n",
       "<table border=\"1\" class=\"dataframe\">\n",
       "  <thead>\n",
       "    <tr style=\"text-align: right;\">\n",
       "      <th></th>\n",
       "      <th>count</th>\n",
       "      <th>prop_count</th>\n",
       "    </tr>\n",
       "  </thead>\n",
       "  <tbody>\n",
       "    <tr>\n",
       "      <th>1</th>\n",
       "      <td>4</td>\n",
       "      <td>0.571429</td>\n",
       "    </tr>\n",
       "    <tr>\n",
       "      <th>14</th>\n",
       "      <td>2</td>\n",
       "      <td>0.285714</td>\n",
       "    </tr>\n",
       "    <tr>\n",
       "      <th>11</th>\n",
       "      <td>1</td>\n",
       "      <td>0.142857</td>\n",
       "    </tr>\n",
       "  </tbody>\n",
       "</table>\n",
       "</div>"
      ],
      "text/plain": [
       "    count  prop_count\n",
       "1       4    0.571429\n",
       "14      2    0.285714\n",
       "11      1    0.142857"
      ]
     },
     "execution_count": 51,
     "metadata": {},
     "output_type": "execute_result"
    }
   ],
   "source": [
    "cluster_prop(df_keywords, \"cluster_k_means\").head(6)"
   ]
  },
  {
   "cell_type": "markdown",
   "metadata": {},
   "source": [
    "Similar analysis for keywords_plus"
   ]
  },
  {
   "cell_type": "code",
   "execution_count": null,
   "metadata": {},
   "outputs": [],
   "source": [
    "# iteratively change threshold -> rerun\n",
    "filtered_general = filter_papers_word_list(keywords_plus, df, threshold = 0.15)\n",
    "df_keywords = df[df['paper_id'].isin(filtered_general)]"
   ]
  },
  {
   "cell_type": "code",
   "execution_count": null,
   "metadata": {},
   "outputs": [],
   "source": [
    "df_keywords.shape "
   ]
  },
  {
   "cell_type": "code",
   "execution_count": null,
   "metadata": {},
   "outputs": [],
   "source": [
    "cluster_prop(df_keywords, \"cluster_lda\").head(6) "
   ]
  },
  {
   "cell_type": "code",
   "execution_count": null,
   "metadata": {},
   "outputs": [],
   "source": [
    "cluster_prop(df_keywords, \"cluster_k_means\").head(6) "
   ]
  },
  {
   "cell_type": "markdown",
   "metadata": {},
   "source": [
    "# 8.1) "
   ]
  },
  {
   "cell_type": "markdown",
   "metadata": {},
   "source": [
    "### Proceed with articles specified by keywords and by both clustering methods"
   ]
  },
  {
   "cell_type": "code",
   "execution_count": 52,
   "metadata": {},
   "outputs": [
    {
     "name": "stderr",
     "output_type": "stream",
     "text": [
      "100%|██████████| 34820/34820 [01:23<00:00, 418.09it/s]\n"
     ]
    },
    {
     "data": {
      "text/plain": [
       "(7, 27)"
      ]
     },
     "execution_count": 52,
     "metadata": {},
     "output_type": "execute_result"
    }
   ],
   "source": [
    "papers_8_1 = filter_papers_word_list(keywords, df, threshold = 0.38)\n",
    "df_keywords_th_04 = df[df['paper_id'].isin(papers_8_1)]\n",
    "df_keywords_th_04.shape"
   ]
  },
  {
   "cell_type": "code",
   "execution_count": 53,
   "metadata": {},
   "outputs": [],
   "source": [
    "fl = open(\"../../data/processed/df_filtered_threshold-04_keywords-all.pkl\", \"wb\")\n",
    "pickle.dump(df_keywords_th_04, fl)\n",
    "fl.close()"
   ]
  },
  {
   "cell_type": "markdown",
   "metadata": {},
   "source": [
    "# 8.2) "
   ]
  },
  {
   "cell_type": "markdown",
   "metadata": {},
   "source": [
    "### Proceed with articles specified by keywords with threshold 0.3 and by both clustering methods"
   ]
  },
  {
   "cell_type": "code",
   "execution_count": 54,
   "metadata": {},
   "outputs": [],
   "source": [
    "# need to be re-run\n",
    "\n",
    "# papers_8_2 = filter_papers_word_list(keywords, df, threshold = 0.3)\n",
    "# df_keywords_th_03_clust = df[df['paper_id'].isin(papers_8_2) & \n",
    "#                              df[\"cluster_lda\"].isin([15, 7, 12, 6]) & \n",
    "#                              df[\"cluster_k_means\"].isin([16, 9, 12, 6])]\n",
    "# df_keywords_th_03_clust.shape "
   ]
  },
  {
   "cell_type": "code",
   "execution_count": 55,
   "metadata": {},
   "outputs": [],
   "source": [
    "# fl = open(\"../../data/processed/df_filtered_threshold-03_both-clusters_keywords-all.pkl\", \"wb\")\n",
    "# pickle.dump(df_keywords_th_03_clust, fl)\n",
    "# fl.close()"
   ]
  },
  {
   "cell_type": "markdown",
   "metadata": {},
   "source": [
    "# 8.3) "
   ]
  },
  {
   "cell_type": "markdown",
   "metadata": {},
   "source": [
    "### Proceed with articles specified by keywords_plus only"
   ]
  },
  {
   "cell_type": "code",
   "execution_count": 56,
   "metadata": {},
   "outputs": [],
   "source": [
    "# need to be re-run\n",
    "\n",
    "# papers_8_3 = filter_papers_word_list(keywords_plus, df, threshold = 0.15)\n",
    "# df_keywords_plus_th_015 = df[df['paper_id'].isin(papers_8_3)]\n",
    "# df_keywords_plus_th_015.shape"
   ]
  },
  {
   "cell_type": "code",
   "execution_count": 57,
   "metadata": {},
   "outputs": [],
   "source": [
    "# fl = open(\"../../data/processed/df_filtered_threshold-015_keywords-all-plus.pkl\", \"wb\")\n",
    "# pickle.dump(df_keywords_plus_th_015, fl)\n",
    "# fl.close()"
   ]
  },
  {
   "cell_type": "markdown",
   "metadata": {},
   "source": [
    "# 9) Get similar documents for LDA"
   ]
  },
  {
   "cell_type": "code",
   "execution_count": 5,
   "metadata": {},
   "outputs": [],
   "source": [
    "doc_topic_dist = pd.read_csv('../models/doc_topic_dist.csv')"
   ]
  },
  {
   "cell_type": "code",
   "execution_count": 6,
   "metadata": {},
   "outputs": [],
   "source": [
    "def get_k_nearest_docs(doc_dist, k=5, lower=1950, upper=2020, only_covid19=False, get_dist=False):\n",
    "    '''\n",
    "    doc_dist: topic distribution (sums to 1) of one article\n",
    "    \n",
    "    Returns the index of the k nearest articles (as by Jensen–Shannon divergence in topic space). \n",
    "    '''\n",
    "    \n",
    "    relevant_time = df.publish_year.between(lower, upper)\n",
    "    \n",
    "    if only_covid19:\n",
    "        temp = doc_topic_dist[relevant_time & is_covid19_article]\n",
    "        \n",
    "    else:\n",
    "        temp = doc_topic_dist[relevant_time]\n",
    "         \n",
    "    distances = temp.apply(lambda x: jensenshannon(x, doc_dist), axis=1)\n",
    "    k_nearest = distances[distances != 0].nsmallest(n=k).index\n",
    "    \n",
    "    if get_dist:\n",
    "        k_distances = distances[distances != 0].nsmallest(n=k)\n",
    "        return k_nearest, k_distances\n",
    "    else:\n",
    "        return k_nearest"
   ]
  },
  {
   "cell_type": "code",
   "execution_count": 7,
   "metadata": {},
   "outputs": [],
   "source": [
    "def recommendation(paper_id, k=5, lower=1950, upper=2020, only_covid19=False, plot_dna=False):\n",
    "    '''\n",
    "    Returns the title of the k papers that are closest (topic-wise) to the paper given by paper_id.\n",
    "    '''\n",
    "\n",
    "    recommended, dist = get_k_nearest_docs(doc_topic_dist[df.paper_id == paper_id].loc[0], k, lower, upper, only_covid19, get_dist=True)\n",
    "    recommended = df.iloc[recommended].copy()\n",
    "    recommended['similarity'] = 1 - dist \n",
    "    \n",
    "    h = '<br/>'.join(['<a href=\"' + l + '\" target=\"_blank\">'+ n + '</a>' +' (Similarity: ' + \"{:.2f}\".format(s) + ')' for l, n, s in recommended[['url','title', 'similarity']].values])\n",
    "    display(HTML(h))"
   ]
  },
  {
   "cell_type": "code",
   "execution_count": 8,
   "metadata": {},
   "outputs": [
    {
     "data": {
      "text/html": [
       "<a href=\"https://www.ncbi.nlm.nih.gov/pmc/articles/PMC3433389/\" target=\"_blank\">A seroepidemiologic study of Reston ebolavirus in swine in the Philippines</a> (Similarity: 0.80)<br/><a href=\"https://www.ncbi.nlm.nih.gov/pmc/articles/PMC4873850/\" target=\"_blank\">A recombinant nucleocapsid protein-based indirect enzyme-linked immunosorbent assay to detect antibodies against porcine deltacoronavirus</a> (Similarity: 0.77)<br/><a href=\"https://www.ncbi.nlm.nih.gov/pmc/articles/PMC3601075/\" target=\"_blank\">The use of equine influenza pseudotypes for serological screening</a> (Similarity: 0.77)<br/><a href=\"https://www.ncbi.nlm.nih.gov/pmc/articles/PMC6626092/\" target=\"_blank\">Preparation and characterization of a single-domain antibody specific for the porcine epidemic diarrhea virus spike protein</a> (Similarity: 0.74)<br/><a href=\"https://www.ncbi.nlm.nih.gov/pmc/articles/PMC7088836/\" target=\"_blank\">Cloning and expression of nucleocapsid protein gene of TGEV HB06 strain</a> (Similarity: 0.74)"
      ],
      "text/plain": [
       "<IPython.core.display.HTML object>"
      ]
     },
     "metadata": {},
     "output_type": "display_data"
    }
   ],
   "source": [
    "#example\n",
    "recommendation('bd667dbd5200c9f07fb07cef29435f7ca7c2639b', k=5)"
   ]
  },
  {
   "cell_type": "markdown",
   "metadata": {},
   "source": [
    "Get documents similar to the question in the task"
   ]
  },
  {
   "cell_type": "code",
   "execution_count": 17,
   "metadata": {},
   "outputs": [],
   "source": [
    "task = [\"Effectiveness of drugs being developed and tried to treat COVID-19 patients.\",\n",
    "\"Clinical and bench trials to investigate less common viral inhibitors against COVID-19 such as naproxen, clarithromycin, and minocyclinethat that may exert effects on viral replication.\",\n",
    "      ' '.join(keywords)]\n",
    "\n",
    "tasks={'What do we know about vaccines and therapeutics?': task}"
   ]
  },
  {
   "cell_type": "code",
   "execution_count": 20,
   "metadata": {},
   "outputs": [],
   "source": [
    "def relevant_articles(tasks, k=3, lower=1950, upper=2020, only_covid19=False):\n",
    "    relevant_articles_dict = {}\n",
    "    tasks = [tasks] if type(tasks) is str else tasks \n",
    "    \n",
    "    tasks_vectorized = vectorizer.transform(tasks)\n",
    "    tasks_topic_dist = pd.DataFrame(lda.transform(tasks_vectorized))\n",
    "\n",
    "    for index, bullet in enumerate(tasks):\n",
    "        print(bullet)\n",
    "        recommended = get_k_nearest_docs(tasks_topic_dist.iloc[index], k, lower, upper, only_covid19)\n",
    "        recommended = df.iloc[recommended]\n",
    "        relevant_articles_dict.update({bullet: recommended})\n",
    "    \n",
    "    return relevant_articles_dict"
   ]
  },
  {
   "cell_type": "code",
   "execution_count": 24,
   "metadata": {},
   "outputs": [
    {
     "name": "stdout",
     "output_type": "stream",
     "text": [
      "Effectiveness of drugs being developed and tried to treat COVID-19 patients.\n",
      "Clinical and bench trials to investigate less common viral inhibitors against COVID-19 such as naproxen, clarithromycin, and minocyclinethat that may exert effects on viral replication.\n",
      "covid-19 coronavirus 2019-ncov covs sars cov2 coronae positive-sense rna viruses clinical trial therapeutic therapy clinical effectiveness actemra ADE inflammatory response ACE-2 Camostat Mesilate interferon beta interferon alpha tocilizumab vaccine vaccines dna inactivated live attenuated virus lav non-replicating viral vector protein subunit replicating viral vector rna virus-like particle vlp viral anti-viral inhibitor immune antibodies adenoviruses antigen lentiviral mrna naproxen clarithromycin minocyclinethat ADE Antibody-Dependent Enhancement variable S domain s protein p0dtc2 Spike glycoprotein amino acid residue variation analysis APC Autophagy inhibitors HL-CZ human promonocyte cell line TNF-α IL-4 IL-6 animal models mouse guinea pigs golden Syrian hamsters ferrets rabbits rhesus macaques marmosets cats viral inhibitor viral replication clinical trial bench trial clarithromycin minocycline remdesivir hydroxychloroquine azithromycin lopinavir nsp5 C30 Endopeptidase ritonavir actemra naproxen\n"
     ]
    }
   ],
   "source": [
    "relevant_dict = relevant_articles(task, 5, only_covid19=False)"
   ]
  },
  {
   "cell_type": "markdown",
   "metadata": {},
   "source": [
    "Add summary to this documents"
   ]
  },
  {
   "cell_type": "code",
   "execution_count": 33,
   "metadata": {},
   "outputs": [],
   "source": [
    "def add_summary(simmilar_dict):\n",
    "\n",
    "    model = Summarizer()\n",
    "    for (key, df) in tqdm(simmilar_dict.items()):\n",
    "        df['summary'] = df['body_text'].progress_apply(lambda x: model(x, min_length=10, max_length = 200))\n",
    "        simmilar_dict.update({key: df})\n",
    "    return simmilar_dict"
   ]
  },
  {
   "cell_type": "markdown",
   "metadata": {},
   "source": [
    "Display results in HTML format"
   ]
  },
  {
   "cell_type": "code",
   "execution_count": 35,
   "metadata": {},
   "outputs": [],
   "source": [
    "def display_results(relevant_dict):\n",
    "    for key, df in relevant_dict.items():\n",
    "        print(key)\n",
    "        h = '<br/>'.join(['<a href=\"' + l + '\" target=\"_blank\">'+ n + '</a>' + '<p>' + s + '</p>' for l, n, s in df[['url','title', 'abstract']].values])\n",
    "        display(HTML(h))"
   ]
  },
  {
   "cell_type": "code",
   "execution_count": 36,
   "metadata": {},
   "outputs": [
    {
     "name": "stdout",
     "output_type": "stream",
     "text": [
      "Effectiveness of drugs being developed and tried to treat COVID-19 patients.\n"
     ]
    },
    {
     "data": {
      "text/html": [
       "<a href=\"https://doi.org/10.1378/chest.06-1994\" target=\"_blank\">Recent Advances in Community-Acquired Pneumonia Inpatient and Outpatient</a><p>Community-acquired pneumonia (CAP) is a common illness, with the majority of patients treated out of the hospital, yet the greatest burden of the cost of care comes from inpatient management. In the past several years, the management of these patients has advanced, with new information about the natural history and prognosis of illness, the utility of serum markers to guide management, the use of appropriate clinical tools to guide the site-of-care decision, and the finding that guidelines can be developed in a way that improves patient outcome. The challenges to patient management include the emergence of new pathogens and the progression of antibiotic resistance in some of the common pathogens such as Streptococcus pneumoniae. Few new antimicrobial treatment options are available, and the utility of some new therapies has been limited by drug-related toxicity. Ancillary care for severe pneumonia with activated protein C and corticosteroids is being studied, but recently, inpatient care has been most affected by the development of evidence-based “core measures” for management that have been promoted by the Centers for Medicare and Medicaid Services, which form the basis for the public reporting of hospital performance in CAP care.</p><br/><a href=\"https://doi.org/10.1016/s0140-6736(20)30558-4\" target=\"_blank\">Comorbidities and multi-organ injuries in the treatment of COVID-19</a><p>“We now have a name for the disease caused by coronavirus and it's COVID-19”, said Dr Tedros Adhanom Ghebreyesus, Director-General of WHO on Feb 11, 2020.1 WHO recently updated the name novel coronavirus pneumonia, previously named by Chinese scientists,2 to coronavirus disease 2019 (COVID-19). More attention should be paid to comorbidities in the treatment of COVID-19. In the literature, COVID-19 is characterised by the symptoms of viral pneumonia such as fever, fatigue, dry cough, and lymphopenia. Many of the older patients who become severely ill have evidence of underlying illness such as cardiovascular disease, liver disease, kidney disease, or malignant tumours.3, 4, 5 These patients often die of their original comorbidities; we therefore need to accurately evaluate all original comorbidities of individuals with COVID-19. In addition to the risk of group transmission of an infectious disease, we should pay full attention to the treatment of the original comorbidities of the individual while treating pneumonia, especially in older patients with serious comorbid conditions. Not only capable of causing pneumonia, COVID-19 may also cause damage to other organs such as the heart, the liver, and the kidneys, as well as to organ systems such as the blood and the immune system.3, 4, 5 Patients eventually die of multiple organ failure, shock, acute respiratory distress syndrome, heart failure, arrhythmias, and renal failure.5, 6 We should therefore pay attention to potential multi-organ injuries and the protection and prevention thereof in the treatment of COVID-19. • View related content for this article We took over a ward for the centralised treatment of severely ill patients in Wuhan Tongji Hospital. 60 patients were classified into three types during their treatment. 13 [22%] of 60 patients mainly had pneumonia and were classified as type A. Basic treatments were provided, such as antivirals, antibiotics, oxygen therapy, and glucocorticoids. 33 (55%) of 60 patients were type B, with disease that manifested with different degrees of pneumonia, accompanied by serious comorbidities. For patients classified as type B, we continued to monitor the changes of comorbidities while managing the pneumonia, carrying out individual evaluations and developing specific treatment plans, including antihypertensives, hypoglycaemic therapy, and continuous renal replacement therapy. 14 (23%) of 60 patients were critically ill and were classified as type C. Patients classified as type C had disease that was considered to have developed from the aggravation of disease seen either in type A or type B, when early therapeutic effects for type A disease were unsatisfactory (resulting in multiple organ injuries), or when disease associated with type B became aggravated and the patient's condition deteriorated from their original comorbidities (leading to multiple organ failure). Attention should be paid to organ function in these critically ill patients and necessary protective measures, including mechanical ventilation, glucocorticoids, antivirals, symptomatic treatments, and anti-shock therapy. We believe that the classification of COVID-19 in severe patients could help in individual evaluation of the disease and would provide effective triage for the treatment and management of individual patients. We declare no competing interests.</p><br/><a href=\"https://doi.org/10.1016/j.ajogmf.2020.100111\" target=\"_blank\">COVID-19 in pregnancy: early lessons</a><p>Abstract As the worldwide incidence of coronavirus disease 2019 (COVID-19) rapidly increases, there remains limited information on COVID-19 in pregnancy. We present here our experience with an initial seven cases of confirmed COVID-19 in pregnancy presenting to a single large New York City tertiary care hospital. Five of the seven patients presented with symptoms of COVID-19, including cough, myalgias, fevers, chest pain, and headache. Four patients were admitted to the hospital, including two who required supportive care with intravenous hydration. Most notably, the other two admitted patients were asymptomatic on admission to the hospital, presenting instead for obstetrically-indicated labor inductions; both of these patients became symptomatic post-partum, each requiring intensive care unit admission.</p><br/><a href=\"https://doi.org/10.1016/j.ijantimicag.2011.11.014\" target=\"_blank\">Does empirical treatment of community-acquired pneumonia with fluoroquinolones delay tuberculosis treatment and result in fluoroquinolone resistance in Mycobacterium tuberculosis? Controversies and solutions</a><p>Abstract The role of fluoroquinolones (FQs) as empirical therapy for community-acquired pneumonia (CAP) remains controversial in countries with high tuberculosis (TB) endemicity owing to the possibility of delayed TB diagnosis and treatment and the emergence of FQ resistance in Mycobacterium tuberculosis. Although the rates of macrolide-resistant Streptococcus pneumoniae and amoxicillin/clavulanic acid-resistant Haemophilus influenzae have risen to alarming levels, the rates of respiratory FQ (RFQ) resistance amongst these isolates remain relatively low. It is reported that ca. 1–7% of CAP cases are re-diagnosed as pulmonary TB in Asian countries. A longer duration (≥7 days) of symptoms, a history of night sweats, lack of fever (>38°C), infection involving the upper lobe, presence of cavitary infiltrates, opacity in the lower lung without the presence of air, low total white blood cell count and the presence of lymphopenia are predictive of pulmonary TB. Amongst patients with CAP who reside in TB-endemic countries who are suspected of having TB, imaging studies as well as aggressive microbiological investigations need to be performed early on. Previous exposure to a FQ for >10 days in patients with TB is associated with the emergence of FQ-resistant M. tuberculosis isolates. However, rates of M. tuberculosis isolates with FQ resistance are significantly higher amongst multidrug-resistant M. tuberculosis isolates than amongst susceptible isolates. Consequently, in Taiwan and also in other countries with TB endemicity, a short-course (5-day) regimen of a RFQ is still recommended for empirical therapy for CAP patients if the patient is at low risk for TB.</p><br/><a href=\"https://doi.org/10.1016/j.jhin.2011.02.010\" target=\"_blank\">Pre-emptive contact precautions for intubated patients reduced healthcare-associated meticillin-resistant Staphylococcus aureus transmission and infection in an intensive care unit</a><p>Summary Healthcare-associated infection by meticillin-resistant Staphylococcus aureus (MRSA) is still a great concern in an intensive care unit (ICU). Our surveillance data in the ICU revealed that intubated patients were at eight times higher risk of acquiring MRSA than non-intubated patients, so we hypothesised that pre-emptive contact precautions for all intubated patients would prevent healthcare-associated infection by MRSA in the ICU. Patients staying in our ICU for >2 days were included in this study. The study period was divided into two periods. During 2004 (1st period), contact precautions were performed only for patients with MRSA. During 2005–2007 (2nd period), contact precautions were applied to all intubated patients regardless of MRSA infection status. Patients were defined as MRSA-positive on admission when MRSA was detected by surveillance or clinical culture on enrolment. Other MRSA-positive results were defined as healthcare-associated MRSA (HA-MRSA) transmission. HA-MRSA infection was diagnosed according to the National Nosocomial Infections Surveillance Manual. The 1st period comprised 415 patients, and the 2nd period comprised 1280 patients. In intubated patients, HA-MRSA infection rate decreased significantly in the 2nd period (1st period 12.2%, 2nd period 5.6%; P =0.015). HA-MRSA infection of all patients decreased from 3.6 to 2.3 incidents per 1000 patient-days (P <0.05), despite a significant increase in the rate of patients MRSA positive on admission in the 2nd period (1st period 2.9%; 2nd period 6.1%). Pre-emptive contact precautions for intubated patients would be helpful in reducing HA-MRSA infection in ICU.</p>"
      ],
      "text/plain": [
       "<IPython.core.display.HTML object>"
      ]
     },
     "metadata": {},
     "output_type": "display_data"
    },
    {
     "name": "stdout",
     "output_type": "stream",
     "text": [
      "Clinical and bench trials to investigate less common viral inhibitors against COVID-19 such as naproxen, clarithromycin, and minocyclinethat that may exert effects on viral replication.\n"
     ]
    },
    {
     "data": {
      "text/html": [
       "<a href=\"https://www.ncbi.nlm.nih.gov/pmc/articles/PMC7103713/\" target=\"_blank\">Antiviral therapy for respiratory viral infections in immunocompromised patients</a><p>Introduction: Respiratory viruses (influenza, parainfluenza, respiratory syncytial virus, coronavirus, human metapneumovirus, and rhinovirus) represent the most common causes of respiratory viral infections in immunocompromised patients. Also, these infections may be more severe in immunocompromised patients than in the general population. Early diagnosis and treatment of viral infections continue to be of paramount importance in immunocompromised patients; because once viral replication and invasive infections are evident, prognosis can be grave. Areas covered: The purpose of this review is to provide an overview of the main antiviral agents used for the treatment of respiratory viral infections in immunocompromised patients and review of the new agents in the pipeline. Expert commentary: Over the past decade, important diagnostic advances, specifically, the use of rapid molecular testing has helped close the gap between clinical scenarios and pathogen identification and enhanced early diagnosis of viral infections and understanding of the role of prolonged shedding and viral loads. Advancements in novel antiviral therapeutics with high resistance thresholds and effective immunization for preventable infections in immunocompromised patients are needed.</p><br/><a href=\"https://www.ncbi.nlm.nih.gov/pmc/articles/PMC6153324/\" target=\"_blank\">Viral Sepsis in Children</a><p>Sepsis in children is typically presumed to be bacterial in origin until proven otherwise, but frequently bacterial cultures ultimately return negative. Although viruses may be important causative agents of culture-negative sepsis worldwide, the incidence, disease burden and mortality of viral-induced sepsis is poorly elucidated. Consideration of viral sepsis is critical as its recognition carries implications on appropriate use of antibacterial agents, infection control measures, and, in some cases, specific, time-sensitive antiviral therapies. This review outlines our current understanding of viral sepsis in children and addresses its epidemiology and pathophysiology, including pathogen-host interaction during active infection. Clinical manifestation, diagnostic testing, and management options unique to viral infections will be outlined.</p><br/><a href=\"https://www.ncbi.nlm.nih.gov/pmc/articles/PMC6299032/\" target=\"_blank\">Respiratory Viral Infections in Patients With Cancer or Undergoing Hematopoietic Cell Transplant</a><p>Survival rates for pediatric cancer have steadily improved over time but it remains a significant cause of morbidity and mortality among children. Infections are a major complication of cancer and its treatment. Community acquired respiratory viral infections (CRV) in these patients increase morbidity, mortality and can lead to delay in chemotherapy. These are the result of infections with a heterogeneous group of viruses including RNA viruses, such as respiratory syncytial virus (RSV), influenza virus (IV), parainfluenza virus (PIV), metapneumovirus (HMPV), rhinovirus (RhV), and coronavirus (CoV). These infections maintain a similar seasonal pattern to those of immunocompetent patients. Clinical manifestations vary significantly depending on the type of virus and the type and degree of immunosuppression, ranging from asymptomatic or mild disease to rapidly progressive fatal pneumonia Infections in this population are characterized by a high rate of progression from upper to lower respiratory tract infection and prolonged viral shedding. Use of corticosteroids and immunosuppressive therapy are risk factors for severe disease. The clinical course is often difficult to predict, and clinical signs are unreliable. Accurate prognostic viral and immune markers, which have become part of the standard of care for systemic viral infections, are currently lacking; and management of CRV infections remains controversial. Defining effective prophylactic and therapeutic strategies is challenging, especially considering, the spectrum of immunocompromised patients, the variety of respiratory viruses, and the presence of other opportunistic infections and medical problems. Prevention remains one of the most important strategies against these viruses. Early diagnosis, supportive care and antivirals at an early stage, when available and indicated, have proven beneficial. However, with the exception of neuraminidase inhibitors for influenza infection, there are no accepted treatments. In high-risk patients, pre-emptive treatment with antivirals for upper respiratory tract infection (URTI) to decrease progression to LRTI is a common strategy. In the future, viral load and immune markers may prove beneficial in predicting severe disease, supporting decision making and monitor treatment in this population.</p><br/><a href=\"https://www.ncbi.nlm.nih.gov/pmc/articles/PMC7089160/\" target=\"_blank\">Novel Antiviral Agents for Respiratory Viral Infection in Immunocompromised Adults</a><p>Respiratory viruses cause significant morbidity and mortality in immunocompromised populations such as stem cell transplant and solid organ transplant patients. Few viruses causing respiratory tract infection have an approved therapy, and many of the viruses have no therapeutic options at all. In this article, we describe novel agents under development for treatment options against several respiratory viruses.</p><br/><a href=\"https://www.ncbi.nlm.nih.gov/pmc/articles/PMC3655463/\" target=\"_blank\">New Insights in Recurrent HCV Infection after Liver Transplantation</a><p>Hepatitis C virus (HCV) is a small-enveloped RNA virus belonging to the Flaviviridae family. Since first identified in 1989, HCV has been estimated to infect 170 million people worldwide. Mostly chronic hepatitis C virus has a uniform natural history, from liver cirrhosis to the development of hepatocellular carcinoma. The current therapy for HCV infection consists of a combination of Pegylated interferon and ribavirin. On the other hand, HCV-related liver disease is also the leading indication for liver transplantation. However, posttransplant HCV re-infection of the graft has been reported to be universal. Furthermore, the graft after HCV re-infection often results in accelerated progression to liver failure. In addition, treatment of recurrent HCV infection after liver transplantation is often compromised by enhanced adverse effects and limited efficacy of interferon-based therapies. Taken together, poor outcome after HCV re-infection, regardless of grafts or recipients, poses a major issue for the hepatologists and transplant surgeons. The aim of this paper is to review several specific aspects regarding HCV re-infection after transplant: risk factors, current therapeutics for HCV in different stages of liver transplantation, cellular function of HCV proteins, and molecular mechanisms of HCV entry. Hopefully, this paper will inspire new strategies and novel inhibitors against recurrent HCV infection after liver transplantation and greatly improve its overall outcome.</p>"
      ],
      "text/plain": [
       "<IPython.core.display.HTML object>"
      ]
     },
     "metadata": {},
     "output_type": "display_data"
    },
    {
     "name": "stdout",
     "output_type": "stream",
     "text": [
      "covid-19 coronavirus 2019-ncov covs sars cov2 coronae positive-sense rna viruses clinical trial therapeutic therapy clinical effectiveness actemra ADE inflammatory response ACE-2 Camostat Mesilate interferon beta interferon alpha tocilizumab vaccine vaccines dna inactivated live attenuated virus lav non-replicating viral vector protein subunit replicating viral vector rna virus-like particle vlp viral anti-viral inhibitor immune antibodies adenoviruses antigen lentiviral mrna naproxen clarithromycin minocyclinethat ADE Antibody-Dependent Enhancement variable S domain s protein p0dtc2 Spike glycoprotein amino acid residue variation analysis APC Autophagy inhibitors HL-CZ human promonocyte cell line TNF-α IL-4 IL-6 animal models mouse guinea pigs golden Syrian hamsters ferrets rabbits rhesus macaques marmosets cats viral inhibitor viral replication clinical trial bench trial clarithromycin minocycline remdesivir hydroxychloroquine azithromycin lopinavir nsp5 C30 Endopeptidase ritonavir actemra naproxen\n"
     ]
    },
    {
     "data": {
      "text/html": [
       "<a href=\"https://doi.org/10.1016/bs.aivir.2016.08.003\" target=\"_blank\">Chapter Eight Molecular Basis of Coronavirus Virulence and Vaccine Development</a><p>Abstract Virus vaccines have to be immunogenic, sufficiently stable, safe, and suitable to induce long-lasting immunity. To meet these requirements, vaccine studies need to provide a comprehensive understanding of (i) the protective roles of antiviral B and T-cell-mediated immune responses, (ii) the complexity and plasticity of major viral antigens, and (iii) virus molecular biology and pathogenesis. There are many types of vaccines including subunit vaccines, whole-inactivated virus, vectored, and live-attenuated virus vaccines, each of which featuring specific advantages and limitations. While nonliving virus vaccines have clear advantages in being safe and stable, they may cause side effects and be less efficacious compared to live-attenuated virus vaccines. In most cases, the latter induce long-lasting immunity but they may require special safety measures to prevent reversion to highly virulent viruses following vaccination. The chapter summarizes the recent progress in the development of coronavirus (CoV) vaccines, focusing on two zoonotic CoVs, the severe acute respiratory syndrome CoV (SARS-CoV), and the Middle East respiratory syndrome CoV, both of which cause deadly disease and epidemics in humans. The development of attenuated virus vaccines to combat infections caused by highly pathogenic CoVs was largely based on the identification and characterization of viral virulence proteins that, for example, interfere with the innate and adaptive immune response or are involved in interactions with specific cell types, such as macrophages, dendritic and epithelial cells, and T lymphocytes, thereby modulating antiviral host responses and viral pathogenesis and potentially resulting in deleterious side effects following vaccination.</p><br/><a href=\"https://www.ncbi.nlm.nih.gov/pmc/articles/PMC1087510/\" target=\"_blank\">Molecular advances in the cell biology of SARS-CoV and current disease prevention strategies</a><p>In the aftermath of the SARS epidemic, there has been significant progress in understanding the molecular and cell biology of SARS-CoV. Some of the milestones are the availability of viral genome sequence, identification of the viral receptor, development of an infectious cDNA clone, and the identification of viral antigens that elicit neutralizing antibodies. However, there is still a large gap in our understanding of how SARS-CoV interacts with the host cell and the rapidly changing viral genome adds another variable to this equation. Now the SARS-CoV story has entered a new phase, a search for preventive strategies and a cure for the disease. This review highlights the progress made in identifying molecular aspects of SARS-CoV biology that is relevant in developing disease prevention strategies. Authors conclude that development of successful SARS-CoV vaccines and antivirals depends on the progress we make in these areas in the immediate future.</p><br/><a href=\"https://www.ncbi.nlm.nih.gov/pmc/articles/PMC3019510/\" target=\"_blank\">Investigation of Antibody-Dependent Enhancement (ADE) of SARS coronavirus infection and its role in pathogenesis of SARS</a><p>Antibody-dependent enhancement (ADE) is a mechanism by which viruses, such as dengue, HIV and Ebola, gain entry into some target cells through the use of host antiviral humoral immune responses [1] . Here, we studied the ability of severe acute respiratory syndrome coronavirus (SARS-CoV) [2] to use ADE mechanisms to enhance its infectivity towards cells of the hematopoietic lineage.\n",
       "We found that heat-inactivated immune serum from rodents vaccinated with recombinant native full-length Spike protein trimers [3] triggered infection of human immune cells (monocytic and B cell lines) by SARS-CoV Spike pseudotyped particle (SARS-CoVpp). The occurrence of antibody-mediated infection of human Raji B cells was further investigated by using live SARS-CoV. Similarly to results obtained with the SARS-CoVpp, only anti-SARS-CoV Spike serum, but not mock immuneserum, induced a massive increase of SARS-CoV viral genes (ORF1b and Nucleocapsid) and viral proteins (Membrane and Nucleocapsid) in Raji B cells. As revealed by immunostaining, only a relatively low, however significant percentage of the Raji cells get infected by antibody-mediated infection and did not allow direct assessment of productive replication by conventional cytopathic assays and TCID50 titration.\n",
       "Taken together, our data suggested that SARS-CoV is able to enter human immune cells via an antibodymediated pathway and immunological consequences of such infection are under investigation (productive replication, cytokines secretion profile and cell death etc). Our data raise reasonable concerns regarding the use of SARS-CoV vaccine in humans and pave the way to further studies focusing on the role of immune-mediated infection phenomenon during SARS pathogenesis. References 1. Takada A, Kawaoka Y: Antibody-dependent enhancement of viral infection: molecular mechanisms and in vivo implications. Rev Med Virol 2003, 13:387-398. 2. Du L, He Y, Zhou Y, Liu S, Zheng BJ, Jiang S: The spike protein of SARS-CoV-a target for vaccine and therapeutic development. Nat Rev Microbiol 2009, 3:226-236. 3.</p><br/><a href=\"https://www.ncbi.nlm.nih.gov/pmc/articles/PMC7105754/\" target=\"_blank\">SARS vaccines: where are we?</a><p>In this review, the current state of vaccine development against human severe acute respiratory syndrome (SARS) coronavirus, focusing on recently published data is assessed. We discuss which strategies have been assessed immunologically and which have been evaluated in SARS coronavirus challenge models. We discuss inactivated vaccines, virally and bacterially vectored vaccines, recombinant protein and DNA vaccines, as well as the use of attenuated vaccines. Data regarding the correlates of protection, animal models and the available evidence regarding potential vaccine enhancement of SARS disease are discussed. While there is much evidence that various vaccine strategies against SARS are safe and immunogenic, vaccinated animals still display significant disease upon challenge. Current data suggest that intranasal vaccination may be crucial and that new or combination strategies may be required for good protective efficacy against SARS in humans.</p><br/><a href=\"https://doi.org/10.1016/bs.aivir.2016.07.001\" target=\"_blank\">Chapter Five Modified Vaccinia Virus Ankara History, Value in Basic Research, and Current Perspectives for Vaccine Development</a><p>Abstract Safety tested Modified Vaccinia virus Ankara (MVA) is licensed as third-generation vaccine against smallpox and serves as a potent vector system for development of new candidate vaccines against infectious diseases and cancer. Historically, MVA was developed by serial tissue culture passage in primary chicken cells of vaccinia virus strain Ankara, and clinically used to avoid the undesirable side effects of conventional smallpox vaccination. Adapted to growth in avian cells MVA lost the ability to replicate in mammalian hosts and lacks many of the genes orthopoxviruses use to conquer their host (cell) environment. As a biologically well-characterized mutant virus, MVA facilitates fundamental research to elucidate the functions of poxvirus host-interaction factors. As extremely safe viral vectors MVA vaccines have been found immunogenic and protective in various preclinical infection models. Multiple recombinant MVA currently undergo clinical testing for vaccination against human immunodeficiency viruses, Mycobacterium tuberculosis or Plasmodium falciparum. The versatility of the MVA vector vaccine platform is readily demonstrated by the swift development of experimental vaccines for immunization against emerging infections such as the Middle East Respiratory Syndrome. Recent advances include promising results from the clinical testing of recombinant MVA-producing antigens of highly pathogenic avian influenza virus H5N1 or Ebola virus. This review summarizes our current knowledge about MVA as a unique strain of vaccinia virus, and discusses the prospects of exploiting this virus as research tool in poxvirus biology or as safe viral vector vaccine to challenge existing and future bottlenecks in vaccinology.</p>"
      ],
      "text/plain": [
       "<IPython.core.display.HTML object>"
      ]
     },
     "metadata": {},
     "output_type": "display_data"
    }
   ],
   "source": [
    "display_results(relevant_dict)"
   ]
  },
  {
   "cell_type": "markdown",
   "metadata": {},
   "source": [
    "# 10) General summary of filtered dataset"
   ]
  },
  {
   "cell_type": "code",
   "execution_count": 3,
   "metadata": {},
   "outputs": [
    {
     "data": {
      "text/plain": [
       "(7, 27)"
      ]
     },
     "execution_count": 3,
     "metadata": {},
     "output_type": "execute_result"
    }
   ],
   "source": [
    "# loading if needed\n",
    "fl = open(\"../../data/processed/df_filtered_threshold-04_keywords-all.pkl\", \"rb\")\n",
    "df_keywords_th_04 = pickle.load(fl)\n",
    "df_keywords_th_04.shape"
   ]
  },
  {
   "cell_type": "code",
   "execution_count": 4,
   "metadata": {},
   "outputs": [],
   "source": [
    "from gensim.summarization.summarizer import summarize \n",
    "from gensim.summarization import keywords\n",
    "def all_summary(df):\n",
    "    all_txt = ' '.join(df[\"body_text\"])\n",
    "    summary = summarize(all_txt, word_count = 1000)\n",
    "    return summary"
   ]
  },
  {
   "cell_type": "code",
   "execution_count": null,
   "metadata": {},
   "outputs": [],
   "source": [
    "all_summary(df_keywords_th_04)"
   ]
  },
  {
   "cell_type": "code",
   "execution_count": null,
   "metadata": {},
   "outputs": [],
   "source": []
  }
 ],
 "metadata": {
  "kernelspec": {
   "display_name": "Python 3",
   "language": "python",
   "name": "python3"
  },
  "language_info": {
   "codemirror_mode": {
    "name": "ipython",
    "version": 3
   },
   "file_extension": ".py",
   "mimetype": "text/x-python",
   "name": "python",
   "nbconvert_exporter": "python",
   "pygments_lexer": "ipython3",
   "version": "3.7.0"
  }
 },
 "nbformat": 4,
 "nbformat_minor": 4
}
